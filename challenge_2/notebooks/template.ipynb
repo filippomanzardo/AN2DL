{
 "cells": [
  {
   "cell_type": "markdown",
   "source": [
    "# Title by Owner"
   ],
   "metadata": {
    "collapsed": false
   }
  },
  {
   "cell_type": "markdown",
   "source": [
    "## Imports"
   ],
   "metadata": {
    "collapsed": false
   }
  },
  {
   "cell_type": "code",
   "execution_count": 20,
   "outputs": [],
   "source": [
    "import numpy as np\n",
    "import tensorflow as tf\n",
    "from sklearn.model_selection import train_test_split\n",
    "from datetime import datetime\n",
    "from os import path\n",
    "from utils.callbacks import SaveBestModelInMemory"
   ],
   "metadata": {
    "collapsed": false,
    "pycharm": {
     "name": "#%%\n"
    }
   }
  },
  {
   "cell_type": "markdown",
   "source": [
    "## Parameters"
   ],
   "metadata": {
    "collapsed": false
   }
  },
  {
   "cell_type": "code",
   "execution_count": 18,
   "outputs": [],
   "source": [
    "BATCH_SIZE = 64 # Number of samples in a mini batch\n",
    "EPOCHS = 10 # Number of training epochs before the training is stopped\n",
    "NUM_CLASSES = 12\n",
    "RANDOM_STATE = 42 # Seed for rng to make everything reproducible and deterministic af\n",
    "TEST_SPLIT = 0.15 # Percent of data to use for validation/testing\n",
    "TENSORBOARD_LOGS_PATH = \"tensorboard-logs\"\n",
    "SAVED_MODELS_PATH = \"saved-models\""
   ],
   "metadata": {
    "collapsed": false,
    "pycharm": {
     "name": "#%%\n"
    }
   }
  },
  {
   "cell_type": "markdown",
   "source": [
    "## Data Loading"
   ],
   "metadata": {
    "collapsed": false
   }
  },
  {
   "cell_type": "code",
   "execution_count": 12,
   "outputs": [
    {
     "name": "stdout",
     "output_type": "stream",
     "text": [
      "All samples shape: (2429, 36, 6), all labels shape: (2429, 12)\n",
      "Train samples shape: (2064, 36, 6), Train labels shape: (2064, 12)\n",
      "Test samples shape: (365, 36, 6), Test labels shape: (365, 12)\n"
     ]
    }
   ],
   "source": [
    "data = np.load(file=\"../dataset/x_train.npy\")\n",
    "labels = tf.keras.utils.to_categorical(np.load(file=\"../dataset/y_train.npy\"), num_classes=NUM_CLASSES)\n",
    "\n",
    "train_data, test_data, train_labels, test_labels = train_test_split(data, labels, test_size=TEST_SPLIT, random_state=RANDOM_STATE)\n",
    "\n",
    "# Make sure everything was loaded correctly:\n",
    "print(f\"All samples shape: {data.shape}, all labels shape: {labels.shape}\")\n",
    "print(f\"Train samples shape: {train_data.shape}, Train labels shape: {train_labels.shape}\")\n",
    "print(f\"Test samples shape: {test_data.shape}, Test labels shape: {test_labels.shape}\")"
   ],
   "metadata": {
    "collapsed": false,
    "pycharm": {
     "name": "#%%\n"
    }
   }
  },
  {
   "cell_type": "markdown",
   "source": [
    "## Preprocessing"
   ],
   "metadata": {
    "collapsed": false
   }
  },
  {
   "cell_type": "code",
   "execution_count": 13,
   "outputs": [],
   "source": [
    "# Define preprocessing pipeline/code"
   ],
   "metadata": {
    "collapsed": false,
    "pycharm": {
     "name": "#%%\n"
    }
   }
  },
  {
   "cell_type": "markdown",
   "source": [
    "## Model Definition"
   ],
   "metadata": {
    "collapsed": false
   }
  },
  {
   "cell_type": "code",
   "execution_count": 14,
   "outputs": [],
   "source": [
    "# Create the model inside the function this is a dummy implementation\n",
    "def build_model(name: str, input_shape: tuple[int,...], classes: int) -> tf.keras.Model:\n",
    "    # Build the neural network layer by layer\n",
    "    input_layer = tf.keras.layers.Input(shape=input_shape, name=\"Input\")\n",
    "\n",
    "    # Feature extractor\n",
    "    lstm = tf.keras.layers.LSTM(128, return_sequences=True)(input_layer)\n",
    "    lstm = tf.keras.layers.LSTM(128)(lstm)\n",
    "    dropout = tf.keras.layers.Dropout(.5, seed=RANDOM_STATE)(lstm)\n",
    "\n",
    "    # Classifier\n",
    "    classifier = tf.keras.layers.Dense(128, activation=\"relu\")(dropout)\n",
    "    output_layer = tf.keras.layers.Dense(classes, activation=\"softmax\")(classifier)\n",
    "\n",
    "    # Connect input and output through the Model class\n",
    "    model = tf.keras.Model(inputs=input_layer, outputs=output_layer, name=name)\n",
    "\n",
    "    # Compile the model\n",
    "    model.compile(loss=tf.keras.losses.CategoricalCrossentropy(), optimizer=tf.keras.optimizers.Adam(), metrics=\"accuracy\")\n",
    "\n",
    "    # Return the model\n",
    "    return model"
   ],
   "metadata": {
    "collapsed": false,
    "pycharm": {
     "name": "#%%\n"
    }
   }
  },
  {
   "cell_type": "markdown",
   "source": [
    "## Training"
   ],
   "metadata": {
    "collapsed": false,
    "pycharm": {
     "name": "#%% md\n"
    }
   }
  },
  {
   "cell_type": "code",
   "execution_count": 21,
   "outputs": [
    {
     "name": "stdout",
     "output_type": "stream",
     "text": [
      "Model: \"My-awesome-model\"\n",
      "_________________________________________________________________\n",
      " Layer (type)                Output Shape              Param #   \n",
      "=================================================================\n",
      " Input (InputLayer)          [(None, 36, 6)]           0         \n",
      "                                                                 \n",
      " lstm_4 (LSTM)               (None, 36, 128)           69120     \n",
      "                                                                 \n",
      " lstm_5 (LSTM)               (None, 128)               131584    \n",
      "                                                                 \n",
      " dropout_2 (Dropout)         (None, 128)               0         \n",
      "                                                                 \n",
      " dense_4 (Dense)             (None, 128)               16512     \n",
      "                                                                 \n",
      " dense_5 (Dense)             (None, 12)                1548      \n",
      "                                                                 \n",
      "=================================================================\n",
      "Total params: 218,764\n",
      "Trainable params: 218,764\n",
      "Non-trainable params: 0\n",
      "_________________________________________________________________\n",
      "Run tensorboard in a separate process with:\n",
      "tensorboard --logdir /Users/leol/Github/AN2DL/challenge_2/notebooks/tensorboard-logs\n",
      "or\n",
      "tensorboard --logdir /Users/leol/Github/AN2DL/challenge_2/notebooks/tensorboard-logs/My-awesome-model/2022-12-12-16-32-29\n",
      "Epoch 1/10\n",
      " 6/33 [====>.........................] - ETA: 1s - loss: 2.4167 - accuracy: 0.1693WARNING:tensorflow:Callback method `on_train_batch_end` is slow compared to the batch time (batch time: 0.0532s vs `on_train_batch_end` time: 0.0881s). Check your callbacks.\n",
      "33/33 [==============================] - 4s 69ms/step - loss: 2.0248 - accuracy: 0.3396 - val_loss: 1.5455 - val_accuracy: 0.4767\n",
      "Epoch 2/10\n",
      "33/33 [==============================] - 2s 58ms/step - loss: 1.5230 - accuracy: 0.4787 - val_loss: 1.2618 - val_accuracy: 0.5671\n",
      "Epoch 3/10\n",
      "33/33 [==============================] - 2s 56ms/step - loss: 1.2793 - accuracy: 0.5630 - val_loss: 1.1159 - val_accuracy: 0.6411\n",
      "Epoch 4/10\n",
      "33/33 [==============================] - 2s 62ms/step - loss: 1.1464 - accuracy: 0.5954 - val_loss: 0.9743 - val_accuracy: 0.6795\n",
      "Epoch 5/10\n",
      "33/33 [==============================] - 2s 58ms/step - loss: 1.0806 - accuracy: 0.6328 - val_loss: 0.9933 - val_accuracy: 0.6740\n",
      "Epoch 6/10\n",
      "33/33 [==============================] - 2s 58ms/step - loss: 0.9544 - accuracy: 0.6701 - val_loss: 0.9253 - val_accuracy: 0.6849\n",
      "Epoch 7/10\n",
      "33/33 [==============================] - 2s 59ms/step - loss: 0.8978 - accuracy: 0.6899 - val_loss: 0.9211 - val_accuracy: 0.6877\n",
      "Epoch 8/10\n",
      "33/33 [==============================] - 2s 64ms/step - loss: 0.8650 - accuracy: 0.6962 - val_loss: 0.9545 - val_accuracy: 0.6712\n",
      "Epoch 9/10\n",
      "33/33 [==============================] - 2s 61ms/step - loss: 0.7890 - accuracy: 0.7301 - val_loss: 0.9239 - val_accuracy: 0.7041\n",
      "Epoch 10/10\n",
      "33/33 [==============================] - 2s 62ms/step - loss: 0.7528 - accuracy: 0.7374 - val_loss: 0.9727 - val_accuracy: 0.6767\n"
     ]
    },
    {
     "data": {
      "text/plain": "<keras.callbacks.History at 0x29daf99f0>"
     },
     "execution_count": 21,
     "metadata": {},
     "output_type": "execute_result"
    }
   ],
   "source": [
    "input_shape = train_data.shape[1:]\n",
    "classes = NUM_CLASSES\n",
    "model_name = \"My-awesome-model\" # Give your model an awesome name for a 2% percent accuracy increase.\n",
    "\n",
    "model = build_model(model_name, input_shape, classes)\n",
    "model.summary()\n",
    "\n",
    "run_id = datetime.utcnow().strftime(\"%Y-%m-%d-%H-%M-%S\")\n",
    "current_tensorboard_log_dir = f\"{TENSORBOARD_LOGS_PATH}/{model_name}/{run_id}\"\n",
    "tensorboard_callback = tf.keras.callbacks.TensorBoard(log_dir=current_tensorboard_log_dir)\n",
    "print(f\"Run tensorboard in a separate process with:\\n\"\n",
    "      f\"tensorboard --logdir {path.abspath(TENSORBOARD_LOGS_PATH)}\\nor\\n\"\n",
    "      f\"tensorboard --logdir {path.abspath(current_tensorboard_log_dir)}\")\n",
    "\n",
    "best_weights_callback = SaveBestModelInMemory(metric=\"val_loss\")\n",
    "\n",
    "model.fit(x=train_data, y=train_labels, batch_size=BATCH_SIZE, epochs=EPOCHS, validation_data=(test_data, test_labels), callbacks=[tensorboard_callback, best_weights_callback])"
   ],
   "metadata": {
    "collapsed": false,
    "pycharm": {
     "name": "#%%\n"
    }
   }
  },
  {
   "cell_type": "markdown",
   "source": [
    "## Optional: Save model in memory"
   ],
   "metadata": {
    "collapsed": false
   }
  },
  {
   "cell_type": "code",
   "execution_count": 22,
   "outputs": [
    {
     "name": "stderr",
     "output_type": "stream",
     "text": [
      "WARNING:absl:Function `_wrapped_model` contains input name(s) Input with unsupported characters which will be renamed to input in the SavedModel.\n",
      "WARNING:absl:Found untraced functions such as lstm_cell_4_layer_call_fn, lstm_cell_4_layer_call_and_return_conditional_losses, lstm_cell_5_layer_call_fn, lstm_cell_5_layer_call_and_return_conditional_losses while saving (showing 4 of 4). These functions will not be directly callable after loading.\n"
     ]
    },
    {
     "name": "stdout",
     "output_type": "stream",
     "text": [
      "INFO:tensorflow:Assets written to: saved-models/My-awesome-model/2022-12-12-16-32-29/assets\n"
     ]
    },
    {
     "name": "stderr",
     "output_type": "stream",
     "text": [
      "INFO:tensorflow:Assets written to: saved-models/My-awesome-model/2022-12-12-16-32-29/assets\n"
     ]
    }
   ],
   "source": [
    "model.set_weights(best_weights_callback.best_weights)\n",
    "model.save(f\"{SAVED_MODELS_PATH}/{model_name}/{run_id}\")"
   ],
   "metadata": {
    "collapsed": false,
    "pycharm": {
     "name": "#%%\n"
    }
   }
  }
 ],
 "metadata": {
  "kernelspec": {
   "display_name": "Python 3",
   "language": "python",
   "name": "python3"
  },
  "language_info": {
   "codemirror_mode": {
    "name": "ipython",
    "version": 2
   },
   "file_extension": ".py",
   "mimetype": "text/x-python",
   "name": "python",
   "nbconvert_exporter": "python",
   "pygments_lexer": "ipython2",
   "version": "2.7.6"
  }
 },
 "nbformat": 4,
 "nbformat_minor": 0
}