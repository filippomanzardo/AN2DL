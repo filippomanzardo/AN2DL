{
 "cells": [
  {
   "cell_type": "markdown",
   "source": [
    "# Title by Owner"
   ],
   "metadata": {
    "collapsed": false
   }
  },
  {
   "cell_type": "markdown",
   "source": [
    "## Imports"
   ],
   "metadata": {
    "collapsed": false
   }
  },
  {
   "cell_type": "code",
   "execution_count": 26,
   "outputs": [],
   "source": [
    "import numpy as np\n",
    "import tensorflow as tf\n",
    "from sklearn.model_selection import train_test_split\n",
    "from datetime import datetime\n",
    "from os import path\n",
    "from utils.callbacks import SaveBestModelInMemory\n",
    "from utils.submission import create_submission_zip"
   ],
   "metadata": {
    "collapsed": false,
    "pycharm": {
     "name": "#%%\n"
    }
   }
  },
  {
   "cell_type": "markdown",
   "source": [
    "## Constants"
   ],
   "metadata": {
    "collapsed": false
   }
  },
  {
   "cell_type": "code",
   "execution_count": 27,
   "outputs": [],
   "source": [
    "NUM_CLASSES = 12\n",
    "RANDOM_STATE = 42 # Seed for rng to make everything reproducible and deterministic af\n",
    "SAVED_MODELS_PATH = \"saved-models\"\n",
    "TENSORBOARD_LOGS_PATH = \"tensorboard-logs\"\n",
    "SUBMISSIONS_PATH = \"../submissions\""
   ],
   "metadata": {
    "collapsed": false,
    "pycharm": {
     "name": "#%%\n"
    }
   }
  },
  {
   "cell_type": "markdown",
   "source": [
    "## Parameters"
   ],
   "metadata": {
    "collapsed": false
   }
  },
  {
   "cell_type": "code",
   "execution_count": 34,
   "outputs": [],
   "source": [
    "BATCH_SIZE = 64 # Number of samples in a mini batch\n",
    "EPOCHS = 50 # Number of training epochs before the training is stopped\n",
    "TEST_SPLIT = 0.15 # Percent of data to use for validation/testing"
   ],
   "metadata": {
    "collapsed": false,
    "pycharm": {
     "name": "#%%\n"
    }
   }
  },
  {
   "cell_type": "markdown",
   "source": [
    "## Data Loading and Preprocessing"
   ],
   "metadata": {
    "collapsed": false
   }
  },
  {
   "cell_type": "code",
   "execution_count": 29,
   "outputs": [
    {
     "name": "stdout",
     "output_type": "stream",
     "text": [
      "Class 0 has 34 samples. Adding 216 samples.\n",
      "Class 1 has 123 samples. Adding 127 samples.\n",
      "Class 2 has 270 samples. Skipping.\n",
      "Class 3 has 381 samples. Skipping.\n",
      "Class 4 has 62 samples. Adding 188 samples.\n",
      "Class 5 has 153 samples. Adding 97 samples.\n",
      "Class 6 has 313 samples. Skipping.\n",
      "Class 7 has 68 samples. Adding 182 samples.\n",
      "Class 8 has 120 samples. Adding 130 samples.\n",
      "Class 9 has 777 samples. Skipping.\n",
      "Class 10 has 77 samples. Adding 173 samples.\n",
      "Class 11 has 51 samples. Adding 199 samples.\n",
      "Added 1312 to the dataset, now all classes have at least 250 samples\n",
      "All samples shape: (3741, 36, 6), all labels shape: (3741,)\n",
      "Train samples shape: (3179, 36, 6), Train labels shape: (3179, 12)\n",
      "Test samples shape: (562, 36, 6), Test labels shape: (562, 12)\n",
      "Samples per class:\n",
      "Total:  [250. 250. 270. 381. 250. 250. 313. 250. 250. 777. 250. 250.]\n",
      "Train:  [213. 215. 215. 331. 215. 213. 271. 213. 211. 666. 208. 208.]\n",
      "Test:  [ 37.  35.  55.  50.  35.  37.  42.  37.  39. 111.  42.  42.]\n"
     ]
    }
   ],
   "source": [
    "data = np.load(file=\"../dataset/x_train.npy\")\n",
    "labels = np.load(file=\"../dataset/y_train.npy\")\n",
    "\n",
    "def augment_sample(sample: np.ndarray) -> np.ndarray:\n",
    "    noise = np.random.normal(0, 1, (36, 6))\n",
    "    return sample + noise\n",
    "\n",
    "min_samples_per_class = 250\n",
    "total_added_samples = 0\n",
    "for cls in range(NUM_CLASSES):\n",
    "    class_data = data[labels == cls]\n",
    "    samples_to_add = min_samples_per_class - len(class_data)\n",
    "    if samples_to_add <= 0:\n",
    "        print(f\"Class {cls} has {len(class_data)} samples. Skipping.\")\n",
    "        continue\n",
    "\n",
    "    print(f\"Class {cls} has {len(class_data)} samples. Adding {samples_to_add} samples.\")\n",
    "    total_added_samples += samples_to_add\n",
    "    augmented_data = []\n",
    "    for _ in range(samples_to_add):\n",
    "        sample = class_data[np.random.randint(0, len(class_data))]\n",
    "        augmented_sample = augment_sample(sample)\n",
    "        augmented_data.append(sample)\n",
    "    data = np.concatenate([data, augmented_data])\n",
    "    labels = np.concatenate([labels, [cls] * samples_to_add])\n",
    "\n",
    "print(f\"Added {total_added_samples} to the dataset, now all classes have at least {min_samples_per_class} samples\")\n",
    "\n",
    "categorical_labels = tf.keras.utils.to_categorical(labels, num_classes=NUM_CLASSES)\n",
    "train_data, test_data, train_labels, test_labels = train_test_split(data, categorical_labels, test_size=TEST_SPLIT, random_state=RANDOM_STATE)\n",
    "\n",
    "# Make sure everything was loaded correctly:\n",
    "print(f\"All samples shape: {data.shape}, all labels shape: {labels.shape}\")\n",
    "print(f\"Train samples shape: {train_data.shape}, Train labels shape: {train_labels.shape}\")\n",
    "print(f\"Test samples shape: {test_data.shape}, Test labels shape: {test_labels.shape}\")\n",
    "print(\"Samples per class:\")\n",
    "print(\"Total: \", np.sum(categorical_labels, axis=0))\n",
    "print(\"Train: \", np.sum(train_labels, axis=0))\n",
    "print(\"Test: \", np.sum(test_labels, axis=0))\n"
   ],
   "metadata": {
    "collapsed": false,
    "pycharm": {
     "name": "#%%\n"
    }
   }
  },
  {
   "cell_type": "markdown",
   "source": [
    "## Model Definition"
   ],
   "metadata": {
    "collapsed": false
   }
  },
  {
   "cell_type": "code",
   "execution_count": 30,
   "outputs": [],
   "source": [
    "# Create the model inside the function this is a dummy implementation\n",
    "def build_model(name: str, input_shape: tuple[int,...], classes: int) -> tf.keras.Model:\n",
    "    # Build the neural network layer by layer\n",
    "    input_layer = tf.keras.layers.Input(shape=input_shape, name=\"Input\")\n",
    "\n",
    "    # Feature extractor\n",
    "    lstm = tf.keras.layers.LSTM(128, return_sequences=True)(input_layer)\n",
    "    lstm = tf.keras.layers.LSTM(128)(lstm)\n",
    "    dropout = tf.keras.layers.Dropout(.5, seed=RANDOM_STATE)(lstm)\n",
    "\n",
    "    # Classifier\n",
    "    classifier = tf.keras.layers.Dense(128, activation=\"relu\")(dropout)\n",
    "    output_layer = tf.keras.layers.Dense(classes, activation=\"softmax\")(classifier)\n",
    "\n",
    "    # Connect input and output through the Model class\n",
    "    model = tf.keras.Model(inputs=input_layer, outputs=output_layer, name=name)\n",
    "\n",
    "    # Compile the model\n",
    "    model.compile(loss=tf.keras.losses.CategoricalCrossentropy(), optimizer=tf.keras.optimizers.Adam(), metrics=\"accuracy\")\n",
    "\n",
    "    # Return the model\n",
    "    return model"
   ],
   "metadata": {
    "collapsed": false,
    "pycharm": {
     "name": "#%%\n"
    }
   }
  },
  {
   "cell_type": "markdown",
   "source": [
    "## Training"
   ],
   "metadata": {
    "collapsed": false,
    "pycharm": {
     "name": "#%% md\n"
    }
   }
  },
  {
   "cell_type": "code",
   "execution_count": 35,
   "outputs": [
    {
     "name": "stdout",
     "output_type": "stream",
     "text": [
      "Model: \"awesome-model-balanced-classes\"\n",
      "_________________________________________________________________\n",
      " Layer (type)                Output Shape              Param #   \n",
      "=================================================================\n",
      " Input (InputLayer)          [(None, 36, 6)]           0         \n",
      "                                                                 \n",
      " lstm_2 (LSTM)               (None, 36, 128)           69120     \n",
      "                                                                 \n",
      " lstm_3 (LSTM)               (None, 128)               131584    \n",
      "                                                                 \n",
      " dropout_1 (Dropout)         (None, 128)               0         \n",
      "                                                                 \n",
      " dense_2 (Dense)             (None, 128)               16512     \n",
      "                                                                 \n",
      " dense_3 (Dense)             (None, 12)                1548      \n",
      "                                                                 \n",
      "=================================================================\n",
      "Total params: 218,764\n",
      "Trainable params: 218,764\n",
      "Non-trainable params: 0\n",
      "_________________________________________________________________\n",
      "Run tensorboard in a separate process with:\n",
      "tensorboard --logdir /Users/leol/Github/AN2DL/challenge_2/notebooks/tensorboard-logs\n",
      "or\n",
      "tensorboard --logdir /Users/leol/Github/AN2DL/challenge_2/notebooks/tensorboard-logs/awesome-model-balanced-classes/2022-12-15-12-01-39\n",
      "Epoch 1/50\n",
      " 6/50 [==>...........................] - ETA: 2s - loss: 2.4538 - accuracy: 0.1380WARNING:tensorflow:Callback method `on_train_batch_end` is slow compared to the batch time (batch time: 0.0621s vs `on_train_batch_end` time: 0.1139s). Check your callbacks.\n"
     ]
    },
    {
     "name": "stderr",
     "output_type": "stream",
     "text": [
      "WARNING:tensorflow:Callback method `on_train_batch_end` is slow compared to the batch time (batch time: 0.0621s vs `on_train_batch_end` time: 0.1139s). Check your callbacks.\n"
     ]
    },
    {
     "name": "stdout",
     "output_type": "stream",
     "text": [
      "50/50 [==============================] - 6s 79ms/step - loss: 1.9978 - accuracy: 0.3190 - val_loss: 1.5463 - val_accuracy: 0.4609\n",
      "Epoch 2/50\n",
      "50/50 [==============================] - 3s 67ms/step - loss: 1.3907 - accuracy: 0.5005 - val_loss: 1.1687 - val_accuracy: 0.5676\n",
      "Epoch 3/50\n",
      "50/50 [==============================] - 3s 67ms/step - loss: 1.1082 - accuracy: 0.5986 - val_loss: 1.0163 - val_accuracy: 0.6246\n",
      "Epoch 4/50\n",
      "50/50 [==============================] - 4s 71ms/step - loss: 0.9159 - accuracy: 0.6678 - val_loss: 0.9004 - val_accuracy: 0.6690\n",
      "Epoch 5/50\n",
      "50/50 [==============================] - 4s 74ms/step - loss: 0.8021 - accuracy: 0.7065 - val_loss: 0.8679 - val_accuracy: 0.6957\n",
      "Epoch 6/50\n",
      "50/50 [==============================] - 4s 75ms/step - loss: 0.7077 - accuracy: 0.7395 - val_loss: 0.8260 - val_accuracy: 0.7117\n",
      "Epoch 7/50\n",
      "50/50 [==============================] - 4s 77ms/step - loss: 0.6234 - accuracy: 0.7763 - val_loss: 0.8043 - val_accuracy: 0.7224\n",
      "Epoch 8/50\n",
      "50/50 [==============================] - 4s 79ms/step - loss: 0.5316 - accuracy: 0.8169 - val_loss: 0.7391 - val_accuracy: 0.7367\n",
      "Epoch 9/50\n",
      "50/50 [==============================] - 4s 74ms/step - loss: 0.4758 - accuracy: 0.8345 - val_loss: 0.8293 - val_accuracy: 0.7295\n",
      "Epoch 10/50\n",
      "50/50 [==============================] - 4s 82ms/step - loss: 0.4074 - accuracy: 0.8638 - val_loss: 0.7629 - val_accuracy: 0.7527\n",
      "Epoch 11/50\n",
      "50/50 [==============================] - 4s 81ms/step - loss: 0.4068 - accuracy: 0.8635 - val_loss: 0.7938 - val_accuracy: 0.7473\n",
      "Epoch 12/50\n",
      "50/50 [==============================] - 4s 80ms/step - loss: 0.3720 - accuracy: 0.8695 - val_loss: 0.8002 - val_accuracy: 0.7527\n",
      "Epoch 13/50\n",
      "50/50 [==============================] - 4s 83ms/step - loss: 0.3262 - accuracy: 0.8924 - val_loss: 0.7303 - val_accuracy: 0.7580\n",
      "Epoch 14/50\n",
      "50/50 [==============================] - 4s 82ms/step - loss: 0.3000 - accuracy: 0.8997 - val_loss: 0.7926 - val_accuracy: 0.7722\n",
      "Epoch 15/50\n",
      "50/50 [==============================] - 4s 82ms/step - loss: 0.2745 - accuracy: 0.9122 - val_loss: 0.7856 - val_accuracy: 0.7811\n",
      "Epoch 16/50\n",
      "50/50 [==============================] - 4s 80ms/step - loss: 0.2544 - accuracy: 0.9151 - val_loss: 0.8608 - val_accuracy: 0.7758\n",
      "Epoch 17/50\n",
      "50/50 [==============================] - 4s 81ms/step - loss: 0.2309 - accuracy: 0.9239 - val_loss: 0.8379 - val_accuracy: 0.7758\n",
      "Epoch 18/50\n",
      "50/50 [==============================] - 4s 82ms/step - loss: 0.1900 - accuracy: 0.9349 - val_loss: 0.8291 - val_accuracy: 0.7954\n",
      "Epoch 19/50\n",
      "50/50 [==============================] - 4s 81ms/step - loss: 0.1705 - accuracy: 0.9500 - val_loss: 0.9114 - val_accuracy: 0.7705\n",
      "Epoch 20/50\n",
      "50/50 [==============================] - 4s 82ms/step - loss: 0.1623 - accuracy: 0.9497 - val_loss: 0.9450 - val_accuracy: 0.7776\n",
      "Epoch 21/50\n",
      "50/50 [==============================] - 4s 83ms/step - loss: 0.2212 - accuracy: 0.9333 - val_loss: 0.8288 - val_accuracy: 0.7794\n",
      "Epoch 22/50\n",
      "50/50 [==============================] - 4s 83ms/step - loss: 0.2057 - accuracy: 0.9330 - val_loss: 0.7945 - val_accuracy: 0.7936\n",
      "Epoch 23/50\n",
      "50/50 [==============================] - 4s 83ms/step - loss: 0.1226 - accuracy: 0.9616 - val_loss: 0.8280 - val_accuracy: 0.8060\n",
      "Epoch 24/50\n",
      "50/50 [==============================] - 4s 81ms/step - loss: 0.0838 - accuracy: 0.9739 - val_loss: 0.8947 - val_accuracy: 0.8007\n",
      "Epoch 25/50\n",
      "50/50 [==============================] - 4s 89ms/step - loss: 0.0598 - accuracy: 0.9836 - val_loss: 1.0126 - val_accuracy: 0.7918\n",
      "Epoch 26/50\n",
      "50/50 [==============================] - 4s 85ms/step - loss: 0.0623 - accuracy: 0.9821 - val_loss: 1.0735 - val_accuracy: 0.8025\n",
      "Epoch 27/50\n",
      "50/50 [==============================] - 4s 85ms/step - loss: 0.1610 - accuracy: 0.9478 - val_loss: 0.9619 - val_accuracy: 0.7829\n",
      "Epoch 28/50\n",
      "50/50 [==============================] - 4s 81ms/step - loss: 0.0815 - accuracy: 0.9755 - val_loss: 0.9630 - val_accuracy: 0.8025\n",
      "Epoch 29/50\n",
      "50/50 [==============================] - 4s 83ms/step - loss: 0.0463 - accuracy: 0.9868 - val_loss: 1.0216 - val_accuracy: 0.8043\n",
      "Epoch 30/50\n",
      "50/50 [==============================] - 4s 87ms/step - loss: 0.0711 - accuracy: 0.9796 - val_loss: 1.0100 - val_accuracy: 0.7918\n",
      "Epoch 31/50\n",
      "50/50 [==============================] - 4s 84ms/step - loss: 0.1139 - accuracy: 0.9632 - val_loss: 0.9553 - val_accuracy: 0.8025\n",
      "Epoch 32/50\n",
      "50/50 [==============================] - 4s 84ms/step - loss: 0.0695 - accuracy: 0.9811 - val_loss: 0.9445 - val_accuracy: 0.7936\n",
      "Epoch 33/50\n",
      "50/50 [==============================] - 4s 88ms/step - loss: 0.0356 - accuracy: 0.9893 - val_loss: 1.0597 - val_accuracy: 0.7989\n",
      "Epoch 34/50\n",
      "50/50 [==============================] - 4s 86ms/step - loss: 0.0341 - accuracy: 0.9921 - val_loss: 1.0909 - val_accuracy: 0.7954\n",
      "Epoch 35/50\n",
      "50/50 [==============================] - 4s 88ms/step - loss: 0.0225 - accuracy: 0.9950 - val_loss: 1.0384 - val_accuracy: 0.8149\n",
      "Epoch 36/50\n",
      "50/50 [==============================] - 4s 88ms/step - loss: 0.0363 - accuracy: 0.9899 - val_loss: 1.1373 - val_accuracy: 0.7972\n",
      "Epoch 37/50\n",
      "50/50 [==============================] - 4s 89ms/step - loss: 0.1658 - accuracy: 0.9503 - val_loss: 1.0704 - val_accuracy: 0.7883\n",
      "Epoch 38/50\n",
      "50/50 [==============================] - 4s 88ms/step - loss: 0.1240 - accuracy: 0.9629 - val_loss: 1.0398 - val_accuracy: 0.7865\n",
      "Epoch 39/50\n",
      "50/50 [==============================] - 4s 86ms/step - loss: 0.1246 - accuracy: 0.9616 - val_loss: 1.0226 - val_accuracy: 0.7918\n",
      "Epoch 40/50\n",
      "50/50 [==============================] - 4s 90ms/step - loss: 0.0964 - accuracy: 0.9695 - val_loss: 1.0856 - val_accuracy: 0.7900\n",
      "Epoch 41/50\n",
      "50/50 [==============================] - 4s 89ms/step - loss: 0.1013 - accuracy: 0.9723 - val_loss: 1.1478 - val_accuracy: 0.7776\n",
      "Epoch 42/50\n",
      "50/50 [==============================] - 4s 87ms/step - loss: 0.0810 - accuracy: 0.9745 - val_loss: 1.0589 - val_accuracy: 0.8007\n",
      "Epoch 43/50\n",
      "50/50 [==============================] - 4s 89ms/step - loss: 0.0479 - accuracy: 0.9846 - val_loss: 1.0304 - val_accuracy: 0.7989\n",
      "Epoch 44/50\n",
      "50/50 [==============================] - 4s 89ms/step - loss: 0.0588 - accuracy: 0.9824 - val_loss: 1.0561 - val_accuracy: 0.7936\n",
      "Epoch 45/50\n",
      "50/50 [==============================] - 4s 90ms/step - loss: 0.0517 - accuracy: 0.9846 - val_loss: 1.0104 - val_accuracy: 0.7989\n",
      "Epoch 46/50\n",
      "50/50 [==============================] - 4s 89ms/step - loss: 0.0351 - accuracy: 0.9921 - val_loss: 1.1245 - val_accuracy: 0.7989\n",
      "Epoch 47/50\n",
      "50/50 [==============================] - 4s 89ms/step - loss: 0.0478 - accuracy: 0.9880 - val_loss: 1.0828 - val_accuracy: 0.8043\n",
      "Epoch 48/50\n",
      "50/50 [==============================] - 4s 90ms/step - loss: 0.0339 - accuracy: 0.9899 - val_loss: 1.2015 - val_accuracy: 0.7900\n",
      "Epoch 49/50\n",
      "50/50 [==============================] - 5s 90ms/step - loss: 0.0355 - accuracy: 0.9906 - val_loss: 1.0242 - val_accuracy: 0.8221\n",
      "Epoch 50/50\n",
      "50/50 [==============================] - 4s 90ms/step - loss: 0.0365 - accuracy: 0.9896 - val_loss: 1.0972 - val_accuracy: 0.7865\n"
     ]
    },
    {
     "data": {
      "text/plain": "<keras.callbacks.History at 0x2cac6c160>"
     },
     "execution_count": 35,
     "metadata": {},
     "output_type": "execute_result"
    }
   ],
   "source": [
    "input_shape = train_data.shape[1:]\n",
    "classes = NUM_CLASSES\n",
    "model_name = \"awesome-model-balanced-classes\" # Give your model an awesome name for a 2% percent accuracy increase.\n",
    "\n",
    "model = build_model(model_name, input_shape, classes)\n",
    "model.summary()\n",
    "\n",
    "run_id = datetime.utcnow().strftime(\"%Y-%m-%d-%H-%M-%S\")\n",
    "current_tensorboard_log_dir = f\"{TENSORBOARD_LOGS_PATH}/{model_name}/{run_id}\"\n",
    "tensorboard_callback = tf.keras.callbacks.TensorBoard(log_dir=current_tensorboard_log_dir)\n",
    "print(f\"Run tensorboard in a separate process with:\\n\"\n",
    "      f\"tensorboard --logdir {path.abspath(TENSORBOARD_LOGS_PATH)}\\nor\\n\"\n",
    "      f\"tensorboard --logdir {path.abspath(current_tensorboard_log_dir)}\")\n",
    "\n",
    "best_weights_callback = SaveBestModelInMemory(metric=\"val_loss\")\n",
    "\n",
    "model.fit(x=train_data, y=train_labels, batch_size=BATCH_SIZE, epochs=EPOCHS, validation_data=(test_data, test_labels), callbacks=[tensorboard_callback, best_weights_callback])"
   ],
   "metadata": {
    "collapsed": false,
    "pycharm": {
     "name": "#%%\n"
    }
   }
  },
  {
   "cell_type": "markdown",
   "source": [
    "## Optional: Save model in memory"
   ],
   "metadata": {
    "collapsed": false
   }
  },
  {
   "cell_type": "code",
   "execution_count": 36,
   "outputs": [
    {
     "name": "stderr",
     "output_type": "stream",
     "text": [
      "WARNING:absl:Function `_wrapped_model` contains input name(s) Input with unsupported characters which will be renamed to input in the SavedModel.\n",
      "WARNING:absl:Found untraced functions such as lstm_cell_2_layer_call_fn, lstm_cell_2_layer_call_and_return_conditional_losses, lstm_cell_3_layer_call_fn, lstm_cell_3_layer_call_and_return_conditional_losses while saving (showing 4 of 4). These functions will not be directly callable after loading.\n"
     ]
    },
    {
     "name": "stdout",
     "output_type": "stream",
     "text": [
      "INFO:tensorflow:Assets written to: saved-models/awesome-model-balanced-classes/2022-12-15-12-01-39/assets\n"
     ]
    },
    {
     "name": "stderr",
     "output_type": "stream",
     "text": [
      "INFO:tensorflow:Assets written to: saved-models/awesome-model-balanced-classes/2022-12-15-12-01-39/assets\n"
     ]
    }
   ],
   "source": [
    "model.set_weights(best_weights_callback.best_weights)\n",
    "saved_model_path = f\"{SAVED_MODELS_PATH}/{model_name}/{run_id}\"\n",
    "model.save(saved_model_path)"
   ],
   "metadata": {
    "collapsed": false,
    "pycharm": {
     "name": "#%%\n"
    }
   }
  },
  {
   "cell_type": "markdown",
   "source": [
    "## Optional: Create submission ZIP"
   ],
   "metadata": {
    "collapsed": false
   }
  },
  {
   "cell_type": "code",
   "execution_count": 37,
   "outputs": [
    {
     "name": "stdout",
     "output_type": "stream",
     "text": [
      "Created submission: ../submissions/awesome-model-balanced-classes/2022-12-15-12-01-39.zip\n"
     ]
    }
   ],
   "source": [
    "submission_path = f\"{SUBMISSIONS_PATH}/{model_name}/{run_id}\"\n",
    "create_submission_zip(submission_path, saved_model_path)\n",
    "\n",
    "print(f\"Created submission: {submission_path}.zip\")"
   ],
   "metadata": {
    "collapsed": false,
    "pycharm": {
     "name": "#%%\n"
    }
   }
  },
  {
   "cell_type": "code",
   "execution_count": 41,
   "outputs": [
    {
     "name": "stdout",
     "output_type": "stream",
     "text": [
      "0.5680131193500001 0.5022833333333333 12 12\n"
     ]
    }
   ],
   "source": [
    "set1_score= 0.609431680774\n",
    "classes_scores = [0.499999999947, 0.597701149374, 0.886486486436, 0.384615384566, 0.140350877146, 0.267857142807, 0.758293838812, 0.255319148885, 0.964705882301, 0.665271966477, 0.839999999947, 0.555555555502]\n",
    "\n",
    "avg = sum(classes_scores) / len(classes_scores)\n",
    "\n",
    "set1_prev = 0.6614\n",
    "classes_scores_prev = [0.2857, 0.6098, \t0.8663,\t0.4897,\t0.0000, 0.0656,\t0.7633, 0.0000,\t0.8696,\t0.7279,\t0.8667,\t0.4828, ]\n",
    "\n",
    "avg_prev = sum(classes_scores_prev) / len(classes_scores_prev)\n",
    "\n",
    "print(avg, avg_prev, len(classes_scores), len(classes_scores_prev))"
   ],
   "metadata": {
    "collapsed": false,
    "pycharm": {
     "name": "#%%\n"
    }
   }
  }
 ],
 "metadata": {
  "kernelspec": {
   "display_name": "Python 3",
   "language": "python",
   "name": "python3"
  },
  "language_info": {
   "codemirror_mode": {
    "name": "ipython",
    "version": 2
   },
   "file_extension": ".py",
   "mimetype": "text/x-python",
   "name": "python",
   "nbconvert_exporter": "python",
   "pygments_lexer": "ipython2",
   "version": "2.7.6"
  }
 },
 "nbformat": 4,
 "nbformat_minor": 0
}