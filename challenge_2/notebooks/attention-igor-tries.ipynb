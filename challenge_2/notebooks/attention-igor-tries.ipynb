{
 "cells": [
  {
   "cell_type": "markdown",
   "source": [
    "# Title by Owner"
   ],
   "metadata": {
    "collapsed": false
   }
  },
  {
   "cell_type": "markdown",
   "source": [
    "## Imports"
   ],
   "metadata": {
    "collapsed": false
   }
  },
  {
   "cell_type": "code",
   "execution_count": 1,
   "outputs": [
    {
     "name": "stdout",
     "output_type": "stream",
     "text": [
      "5\n"
     ]
    }
   ],
   "source": [
    "import numpy as np\n",
    "import tensorflow as tf\n",
    "from sklearn.model_selection import train_test_split\n",
    "from datetime import datetime\n",
    "from os import path\n",
    "from utils.callbacks import SaveBestModelInMemory\n",
    "from utils.submission import create_submission_zip\n",
    "\n",
    "from tensorflow.python import keras\n",
    "from tensorflow.keras.utils import to_categorical\n",
    "from tensorflow.keras import Model\n",
    "from tensorflow.keras.layers import Input, Embedding, LSTM, Dense #, Attention\n",
    "from utils.attention import Attention\n",
    "print(5)\n",
    "# from tensorflow.keras.layers import Attention"
   ],
   "metadata": {
    "collapsed": false
   }
  },
  {
   "cell_type": "markdown",
   "source": [
    "## Constants"
   ],
   "metadata": {
    "collapsed": false
   }
  },
  {
   "cell_type": "code",
   "execution_count": 3,
   "outputs": [],
   "source": [
    "NUM_CLASSES = 12\n",
    "RANDOM_STATE = 42 # Seed for rng to make everything reproducible and deterministic af\n",
    "SAVED_MODELS_PATH = \"saved-models\"\n",
    "TENSORBOARD_LOGS_PATH = \"tensorboard-logs\"\n",
    "SUBMISSIONS_PATH = \"../submissions\""
   ],
   "metadata": {
    "collapsed": false
   }
  },
  {
   "cell_type": "markdown",
   "source": [
    "## Parameters"
   ],
   "metadata": {
    "collapsed": false
   }
  },
  {
   "cell_type": "code",
   "execution_count": 14,
   "outputs": [],
   "source": [
    "BATCH_SIZE = 32 # Number of samples in a mini batch\n",
    "EPOCHS = 100 # Number of training epochs before the training is stopped\n",
    "TEST_SPLIT = 0.15 # Percent of data to use for validation/testing"
   ],
   "metadata": {
    "collapsed": false
   }
  },
  {
   "cell_type": "markdown",
   "source": [],
   "metadata": {
    "collapsed": false
   }
  },
  {
   "cell_type": "code",
   "execution_count": 15,
   "outputs": [
    {
     "name": "stdout",
     "output_type": "stream",
     "text": [
      "All samples shape: (2429, 36, 6), all labels shape: (2429, 12)\n",
      "Train samples shape: (2064, 36, 6), Train labels shape: (2064, 12)\n",
      "Test samples shape: (365, 36, 6), Test labels shape: (365, 12)\n"
     ]
    }
   ],
   "source": [
    "data = np.load(file=\"../dataset/x_train.npy\")\n",
    "labels = tf.keras.utils.to_categorical(np.load(file=\"../dataset/y_train.npy\"), num_classes=NUM_CLASSES)\n",
    "\n",
    "train_data, test_data, train_labels, test_labels = train_test_split(data, labels, test_size=TEST_SPLIT, random_state=RANDOM_STATE)\n",
    "\n",
    "# Make sure everything was loaded correctly:\n",
    "print(f\"All samples shape: {data.shape}, all labels shape: {labels.shape}\")\n",
    "print(f\"Train samples shape: {train_data.shape}, Train labels shape: {train_labels.shape}\")\n",
    "print(f\"Test samples shape: {test_data.shape}, Test labels shape: {test_labels.shape}\")"
   ],
   "metadata": {
    "collapsed": false
   }
  },
  {
   "cell_type": "markdown",
   "source": [
    "## Model Definition"
   ],
   "metadata": {
    "collapsed": false
   }
  },
  {
   "cell_type": "code",
   "execution_count": 9,
   "outputs": [],
   "source": [
    "# Create the model inside the function this is a dummy implementation\n",
    "def build_model(name: str, input_shape: tuple[int,...], classes: int) -> tf.keras.Model:\n",
    "    # Build the neural network layer by layer\n",
    "    print(input_shape)\n",
    "\n",
    "    # X = Input(shape=input_shape)\n",
    "    # encoder = LSTM(64, return_sequences=True)(X)\n",
    "    # decoder = Attention()(encoder)\n",
    "    # Y = Dense(classes)(decoder)\n",
    "\n",
    "    query_input = tf.keras.Input(shape=(None,), dtype='int32')\n",
    "    value_input = tf.keras.Input(shape=(None,), dtype='int32')\n",
    "\n",
    "    token_embedding =  tf.keras.layers.Embedding(input_dim=(36,6), output_dim=128)\n",
    "\n",
    "    query_embeddings = token_embedding(query_input)\n",
    "    value_embeddings = token_embedding(value_input)\n",
    "\n",
    "    cnn_layer = tf.keras.layers.Conv1D(128, 6, padding='same')\n",
    "    query_seq_encoding = cnn_layer(query_embeddings)\n",
    "    value_seq_encoding = cnn_layer(value_embeddings)\n",
    "\n",
    "    query_value_attention_seq = tf.keras.layers.Attention()([query_seq_encoding, value_seq_encoding])\n",
    "\n",
    "    query_encoding = tf.keras.layers.GlobalAveragePooling1D()(query_seq_encoding)\n",
    "    query_value_attention = tf.keras.layers.GlobalAveragePooling1D()(query_value_attention_seq)\n",
    "\n",
    "    X = tf.keras.layers.Concatenate()([query_encoding, query_value_attention])\n",
    "    Y = Dense(units=classes, activation='softmax')(X)\n",
    "\n",
    "    # The most promising!!\n",
    "    # X = Input(shape=input_shape, batch_size=BATCH_SIZE)  # tf.keras.layers.Input(shape=input_shape, name=\"Input\")\n",
    "    # embedding = Embedding(input_dim=classes, output_dim=128)(X)\n",
    "\n",
    "    # encoder = LSTM(64, return_sequences=True)(X)\n",
    "    # encoder = LSTM(units=128, return_sequences=True)(embedding)\n",
    "\n",
    "    # a = Attention()\n",
    "    # decoder, attention_weights = Attention(context='many-to-one', alignment_type='global', model_api='functional')(encoder)\n",
    "    # decoder = Attention(use_scale=False)\n",
    "    # Y = Dense(units=classes, activation='softmax')(decoder)\n",
    "    #\n",
    "    # Connect input and output through the Model class\n",
    "    model = tf.keras.Model(inputs=X, outputs=Y, name=name)\n",
    "    # Compile the model\n",
    "    model.compile(loss=tf.keras.losses.CategoricalCrossentropy(), optimizer=tf.keras.optimizers.Adam(), metrics=\"accuracy\")\n",
    "\n",
    "    # Return the model\n",
    "    return model"
   ],
   "metadata": {
    "collapsed": false
   }
  },
  {
   "cell_type": "code",
   "execution_count": 28,
   "outputs": [],
   "source": [
    "# Simple approach\n",
    "def build_model(name: str, input_shape: tuple[int,...], classes: int) -> tf.keras.Model:\n",
    "    # Build the neural network layer by layer\n",
    "    num_samples = 2064\n",
    "    time_steps = 36\n",
    "\n",
    "    model_input = Input(shape=(36, 6))\n",
    "    x = tf.keras.layers.GaussianNoise(0.1)(model_input)\n",
    "    x = LSTM(128, return_sequences=True)(x)\n",
    "    # x = LSTM(128)(x)\n",
    "    x = Attention(64)(x)\n",
    "\n",
    "    x = tf.keras.layers.Dropout(.5, seed=RANDOM_STATE)(x)\n",
    "\n",
    "    # Classifier\n",
    "    x = tf.keras.layers.Dense(64, activation=\"relu\")(x)\n",
    "    x = tf.keras.layers.Dense(classes, activation=\"softmax\")(x)\n",
    "\n",
    "    # x = Dense(12)(x)\n",
    "    model = tf.keras.Model(inputs=model_input, outputs=x, name=name)\n",
    "    # Compile the model\n",
    "    model.compile(loss=tf.keras.losses.CategoricalCrossentropy(), optimizer=tf.keras.optimizers.Adam(), metrics=\"accuracy\")\n",
    "\n",
    "    # Return the model\n",
    "    return model\n"
   ],
   "metadata": {
    "collapsed": false
   }
  },
  {
   "cell_type": "markdown",
   "source": [
    "## Training"
   ],
   "metadata": {
    "collapsed": false
   }
  },
  {
   "cell_type": "code",
   "execution_count": 29,
   "outputs": [
    {
     "name": "stdout",
     "output_type": "stream",
     "text": [
      "(2064, 36, 6)\n",
      "(36, 6)\n",
      "Model: \"My-awesome-model\"\n",
      "_________________________________________________________________\n",
      " Layer (type)                Output Shape              Param #   \n",
      "=================================================================\n",
      " input_10 (InputLayer)       [(None, 36, 6)]           0         \n",
      "                                                                 \n",
      " gaussian_noise_1 (GaussianN  (None, 36, 6)            0         \n",
      " oise)                                                           \n",
      "                                                                 \n",
      " lstm_10 (LSTM)              (None, 36, 128)           69120     \n",
      "                                                                 \n",
      " attention_9 (Attention)     (None, 69)                34048     \n",
      "                                                                 \n",
      " dropout_2 (Dropout)         (None, 69)                0         \n",
      "                                                                 \n",
      " dense_11 (Dense)            (None, 64)                4480      \n",
      "                                                                 \n",
      " dense_12 (Dense)            (None, 12)                780       \n",
      "                                                                 \n",
      "=================================================================\n",
      "Total params: 108,428\n",
      "Trainable params: 108,428\n",
      "Non-trainable params: 0\n",
      "_________________________________________________________________\n",
      "Run tensorboard in a separate process with:\n",
      "tensorboard --logdir /Users/amiable-sputnik/Desktop/tesori/unversity/polimi/courses/2022-WS/AN2DL/AN2DL/challenge_2/notebooks/tensorboard-logs\n",
      "or\n",
      "tensorboard --logdir /Users/amiable-sputnik/Desktop/tesori/unversity/polimi/courses/2022-WS/AN2DL/AN2DL/challenge_2/notebooks/tensorboard-logs/My-awesome-model/2022-12-15-12-41-28\n",
      "Epoch 1/100\n"
     ]
    },
    {
     "name": "stderr",
     "output_type": "stream",
     "text": [
      "2022-12-15 13:41:28.910562: W tensorflow/core/grappler/costs/op_level_cost_estimator.cc:690] Error in PredictCost() for the op: op: \"Softmax\" attr { key: \"T\" value { type: DT_FLOAT } } inputs { dtype: DT_FLOAT shape { unknown_rank: true } } device { type: \"CPU\" model: \"0\" num_cores: 10 environment { key: \"cpu_instruction_set\" value: \"ARM NEON\" } environment { key: \"eigen\" value: \"3.4.90\" } l1_cache_size: 16384 l2_cache_size: 524288 l3_cache_size: 524288 memory_size: 268435456 } outputs { dtype: DT_FLOAT shape { unknown_rank: true } }\n"
     ]
    },
    {
     "name": "stdout",
     "output_type": "stream",
     "text": [
      " 4/65 [>.............................] - ETA: 1s - loss: 2.4814 - accuracy: 0.0625      WARNING:tensorflow:Callback method `on_train_batch_end` is slow compared to the batch time (batch time: 0.0165s vs `on_train_batch_end` time: 0.0353s). Check your callbacks.\n",
      "65/65 [==============================] - 3s 25ms/step - loss: 2.0312 - accuracy: 0.3382 - val_loss: 1.5884 - val_accuracy: 0.4767\n",
      "Epoch 2/100\n",
      " 5/65 [=>............................] - ETA: 0s - loss: 1.7105 - accuracy: 0.4125"
     ]
    },
    {
     "name": "stderr",
     "output_type": "stream",
     "text": [
      "2022-12-15 13:41:30.769943: W tensorflow/core/grappler/costs/op_level_cost_estimator.cc:690] Error in PredictCost() for the op: op: \"Softmax\" attr { key: \"T\" value { type: DT_FLOAT } } inputs { dtype: DT_FLOAT shape { unknown_rank: true } } device { type: \"CPU\" model: \"0\" num_cores: 10 environment { key: \"cpu_instruction_set\" value: \"ARM NEON\" } environment { key: \"eigen\" value: \"3.4.90\" } l1_cache_size: 16384 l2_cache_size: 524288 l3_cache_size: 524288 memory_size: 268435456 } outputs { dtype: DT_FLOAT shape { unknown_rank: true } }\n"
     ]
    },
    {
     "name": "stdout",
     "output_type": "stream",
     "text": [
      "65/65 [==============================] - 1s 18ms/step - loss: 1.5118 - accuracy: 0.5005 - val_loss: 1.3133 - val_accuracy: 0.5479\n",
      "Epoch 3/100\n",
      "65/65 [==============================] - 1s 19ms/step - loss: 1.2851 - accuracy: 0.5644 - val_loss: 1.1632 - val_accuracy: 0.6110\n",
      "Epoch 4/100\n",
      "65/65 [==============================] - 1s 19ms/step - loss: 1.1589 - accuracy: 0.6143 - val_loss: 1.1162 - val_accuracy: 0.6329\n",
      "Epoch 5/100\n",
      "65/65 [==============================] - 1s 20ms/step - loss: 1.0260 - accuracy: 0.6521 - val_loss: 1.1546 - val_accuracy: 0.6000\n",
      "Epoch 6/100\n",
      "65/65 [==============================] - 1s 19ms/step - loss: 0.9742 - accuracy: 0.6642 - val_loss: 1.1098 - val_accuracy: 0.6137\n",
      "Epoch 7/100\n",
      "65/65 [==============================] - 1s 19ms/step - loss: 0.8721 - accuracy: 0.7011 - val_loss: 1.1860 - val_accuracy: 0.6082\n",
      "Epoch 8/100\n",
      "65/65 [==============================] - 1s 19ms/step - loss: 0.8307 - accuracy: 0.7083 - val_loss: 1.1221 - val_accuracy: 0.6493\n",
      "Epoch 9/100\n",
      "65/65 [==============================] - 1s 19ms/step - loss: 0.8054 - accuracy: 0.7146 - val_loss: 1.1737 - val_accuracy: 0.6164\n",
      "Epoch 10/100\n",
      "65/65 [==============================] - 1s 19ms/step - loss: 0.7439 - accuracy: 0.7447 - val_loss: 1.1840 - val_accuracy: 0.6329\n",
      "Epoch 11/100\n",
      "65/65 [==============================] - 1s 19ms/step - loss: 0.7142 - accuracy: 0.7515 - val_loss: 1.2637 - val_accuracy: 0.6192\n",
      "Epoch 12/100\n",
      "65/65 [==============================] - 1s 19ms/step - loss: 0.6887 - accuracy: 0.7718 - val_loss: 1.1662 - val_accuracy: 0.6685\n",
      "Epoch 13/100\n",
      "65/65 [==============================] - 1s 19ms/step - loss: 0.6329 - accuracy: 0.7878 - val_loss: 1.2918 - val_accuracy: 0.6055\n",
      "Epoch 14/100\n",
      "65/65 [==============================] - 1s 19ms/step - loss: 0.6035 - accuracy: 0.7941 - val_loss: 1.4327 - val_accuracy: 0.5890\n",
      "Epoch 15/100\n",
      "65/65 [==============================] - 1s 19ms/step - loss: 0.5517 - accuracy: 0.8173 - val_loss: 1.3533 - val_accuracy: 0.6192\n",
      "Epoch 16/100\n",
      "65/65 [==============================] - 1s 20ms/step - loss: 0.5499 - accuracy: 0.8091 - val_loss: 1.4690 - val_accuracy: 0.6411\n",
      "Epoch 17/100\n",
      "65/65 [==============================] - 1s 19ms/step - loss: 0.4993 - accuracy: 0.8391 - val_loss: 1.5628 - val_accuracy: 0.6192\n",
      "Epoch 18/100\n",
      "65/65 [==============================] - 1s 19ms/step - loss: 0.4721 - accuracy: 0.8445 - val_loss: 1.6423 - val_accuracy: 0.5808\n",
      "Epoch 19/100\n",
      "65/65 [==============================] - 1s 19ms/step - loss: 0.4252 - accuracy: 0.8619 - val_loss: 1.5316 - val_accuracy: 0.6274\n",
      "Epoch 20/100\n"
     ]
    },
    {
     "ename": "KeyboardInterrupt",
     "evalue": "",
     "output_type": "error",
     "traceback": [
      "\u001B[0;31m---------------------------------------------------------------------------\u001B[0m",
      "\u001B[0;31mKeyboardInterrupt\u001B[0m                         Traceback (most recent call last)",
      "Cell \u001B[0;32mIn[29], line 19\u001B[0m\n\u001B[1;32m     17\u001B[0m best_weights_callback \u001B[38;5;241m=\u001B[39m SaveBestModelInMemory(metric\u001B[38;5;241m=\u001B[39m\u001B[38;5;124m\"\u001B[39m\u001B[38;5;124mval_loss\u001B[39m\u001B[38;5;124m\"\u001B[39m)\n\u001B[1;32m     18\u001B[0m \u001B[38;5;66;03m# reshaped_data = train_data.reshape(2064,256)\u001B[39;00m\n\u001B[0;32m---> 19\u001B[0m \u001B[43mmodel\u001B[49m\u001B[38;5;241;43m.\u001B[39;49m\u001B[43mfit\u001B[49m\u001B[43m(\u001B[49m\u001B[43mx\u001B[49m\u001B[38;5;241;43m=\u001B[39;49m\u001B[43mtrain_data\u001B[49m\u001B[43m,\u001B[49m\u001B[43m \u001B[49m\u001B[43my\u001B[49m\u001B[38;5;241;43m=\u001B[39;49m\u001B[43mtrain_labels\u001B[49m\u001B[43m,\u001B[49m\u001B[43m \u001B[49m\u001B[43mbatch_size\u001B[49m\u001B[38;5;241;43m=\u001B[39;49m\u001B[43mBATCH_SIZE\u001B[49m\u001B[43m,\u001B[49m\u001B[43m \u001B[49m\u001B[43mepochs\u001B[49m\u001B[38;5;241;43m=\u001B[39;49m\u001B[43mEPOCHS\u001B[49m\u001B[43m,\u001B[49m\u001B[43m \u001B[49m\u001B[43mvalidation_data\u001B[49m\u001B[38;5;241;43m=\u001B[39;49m\u001B[43m(\u001B[49m\u001B[43mtest_data\u001B[49m\u001B[43m,\u001B[49m\u001B[43m \u001B[49m\u001B[43mtest_labels\u001B[49m\u001B[43m)\u001B[49m\u001B[43m,\u001B[49m\u001B[43m \u001B[49m\u001B[43mcallbacks\u001B[49m\u001B[38;5;241;43m=\u001B[39;49m\u001B[43m[\u001B[49m\u001B[43mtensorboard_callback\u001B[49m\u001B[43m,\u001B[49m\u001B[43m \u001B[49m\u001B[43mbest_weights_callback\u001B[49m\u001B[43m]\u001B[49m\u001B[43m)\u001B[49m\n",
      "File \u001B[0;32m~/Desktop/tesori/unversity/polimi/courses/2022-WS/AN2DL/AN2DL/challenge_2/.venv/lib/python3.10/site-packages/keras/utils/traceback_utils.py:65\u001B[0m, in \u001B[0;36mfilter_traceback.<locals>.error_handler\u001B[0;34m(*args, **kwargs)\u001B[0m\n\u001B[1;32m     63\u001B[0m filtered_tb \u001B[38;5;241m=\u001B[39m \u001B[38;5;28;01mNone\u001B[39;00m\n\u001B[1;32m     64\u001B[0m \u001B[38;5;28;01mtry\u001B[39;00m:\n\u001B[0;32m---> 65\u001B[0m     \u001B[38;5;28;01mreturn\u001B[39;00m \u001B[43mfn\u001B[49m\u001B[43m(\u001B[49m\u001B[38;5;241;43m*\u001B[39;49m\u001B[43margs\u001B[49m\u001B[43m,\u001B[49m\u001B[43m \u001B[49m\u001B[38;5;241;43m*\u001B[39;49m\u001B[38;5;241;43m*\u001B[39;49m\u001B[43mkwargs\u001B[49m\u001B[43m)\u001B[49m\n\u001B[1;32m     66\u001B[0m \u001B[38;5;28;01mexcept\u001B[39;00m \u001B[38;5;167;01mException\u001B[39;00m \u001B[38;5;28;01mas\u001B[39;00m e:\n\u001B[1;32m     67\u001B[0m     filtered_tb \u001B[38;5;241m=\u001B[39m _process_traceback_frames(e\u001B[38;5;241m.\u001B[39m__traceback__)\n",
      "File \u001B[0;32m~/Desktop/tesori/unversity/polimi/courses/2022-WS/AN2DL/AN2DL/challenge_2/.venv/lib/python3.10/site-packages/keras/engine/training.py:1564\u001B[0m, in \u001B[0;36mModel.fit\u001B[0;34m(self, x, y, batch_size, epochs, verbose, callbacks, validation_split, validation_data, shuffle, class_weight, sample_weight, initial_epoch, steps_per_epoch, validation_steps, validation_batch_size, validation_freq, max_queue_size, workers, use_multiprocessing)\u001B[0m\n\u001B[1;32m   1556\u001B[0m \u001B[38;5;28;01mwith\u001B[39;00m tf\u001B[38;5;241m.\u001B[39mprofiler\u001B[38;5;241m.\u001B[39mexperimental\u001B[38;5;241m.\u001B[39mTrace(\n\u001B[1;32m   1557\u001B[0m     \u001B[38;5;124m\"\u001B[39m\u001B[38;5;124mtrain\u001B[39m\u001B[38;5;124m\"\u001B[39m,\n\u001B[1;32m   1558\u001B[0m     epoch_num\u001B[38;5;241m=\u001B[39mepoch,\n\u001B[0;32m   (...)\u001B[0m\n\u001B[1;32m   1561\u001B[0m     _r\u001B[38;5;241m=\u001B[39m\u001B[38;5;241m1\u001B[39m,\n\u001B[1;32m   1562\u001B[0m ):\n\u001B[1;32m   1563\u001B[0m     callbacks\u001B[38;5;241m.\u001B[39mon_train_batch_begin(step)\n\u001B[0;32m-> 1564\u001B[0m     tmp_logs \u001B[38;5;241m=\u001B[39m \u001B[38;5;28;43mself\u001B[39;49m\u001B[38;5;241;43m.\u001B[39;49m\u001B[43mtrain_function\u001B[49m\u001B[43m(\u001B[49m\u001B[43miterator\u001B[49m\u001B[43m)\u001B[49m\n\u001B[1;32m   1565\u001B[0m     \u001B[38;5;28;01mif\u001B[39;00m data_handler\u001B[38;5;241m.\u001B[39mshould_sync:\n\u001B[1;32m   1566\u001B[0m         context\u001B[38;5;241m.\u001B[39masync_wait()\n",
      "File \u001B[0;32m~/Desktop/tesori/unversity/polimi/courses/2022-WS/AN2DL/AN2DL/challenge_2/.venv/lib/python3.10/site-packages/tensorflow/python/util/traceback_utils.py:150\u001B[0m, in \u001B[0;36mfilter_traceback.<locals>.error_handler\u001B[0;34m(*args, **kwargs)\u001B[0m\n\u001B[1;32m    148\u001B[0m filtered_tb \u001B[38;5;241m=\u001B[39m \u001B[38;5;28;01mNone\u001B[39;00m\n\u001B[1;32m    149\u001B[0m \u001B[38;5;28;01mtry\u001B[39;00m:\n\u001B[0;32m--> 150\u001B[0m   \u001B[38;5;28;01mreturn\u001B[39;00m \u001B[43mfn\u001B[49m\u001B[43m(\u001B[49m\u001B[38;5;241;43m*\u001B[39;49m\u001B[43margs\u001B[49m\u001B[43m,\u001B[49m\u001B[43m \u001B[49m\u001B[38;5;241;43m*\u001B[39;49m\u001B[38;5;241;43m*\u001B[39;49m\u001B[43mkwargs\u001B[49m\u001B[43m)\u001B[49m\n\u001B[1;32m    151\u001B[0m \u001B[38;5;28;01mexcept\u001B[39;00m \u001B[38;5;167;01mException\u001B[39;00m \u001B[38;5;28;01mas\u001B[39;00m e:\n\u001B[1;32m    152\u001B[0m   filtered_tb \u001B[38;5;241m=\u001B[39m _process_traceback_frames(e\u001B[38;5;241m.\u001B[39m__traceback__)\n",
      "File \u001B[0;32m~/Desktop/tesori/unversity/polimi/courses/2022-WS/AN2DL/AN2DL/challenge_2/.venv/lib/python3.10/site-packages/tensorflow/python/eager/def_function.py:915\u001B[0m, in \u001B[0;36mFunction.__call__\u001B[0;34m(self, *args, **kwds)\u001B[0m\n\u001B[1;32m    912\u001B[0m compiler \u001B[38;5;241m=\u001B[39m \u001B[38;5;124m\"\u001B[39m\u001B[38;5;124mxla\u001B[39m\u001B[38;5;124m\"\u001B[39m \u001B[38;5;28;01mif\u001B[39;00m \u001B[38;5;28mself\u001B[39m\u001B[38;5;241m.\u001B[39m_jit_compile \u001B[38;5;28;01melse\u001B[39;00m \u001B[38;5;124m\"\u001B[39m\u001B[38;5;124mnonXla\u001B[39m\u001B[38;5;124m\"\u001B[39m\n\u001B[1;32m    914\u001B[0m \u001B[38;5;28;01mwith\u001B[39;00m OptionalXlaContext(\u001B[38;5;28mself\u001B[39m\u001B[38;5;241m.\u001B[39m_jit_compile):\n\u001B[0;32m--> 915\u001B[0m   result \u001B[38;5;241m=\u001B[39m \u001B[38;5;28;43mself\u001B[39;49m\u001B[38;5;241;43m.\u001B[39;49m\u001B[43m_call\u001B[49m\u001B[43m(\u001B[49m\u001B[38;5;241;43m*\u001B[39;49m\u001B[43margs\u001B[49m\u001B[43m,\u001B[49m\u001B[43m \u001B[49m\u001B[38;5;241;43m*\u001B[39;49m\u001B[38;5;241;43m*\u001B[39;49m\u001B[43mkwds\u001B[49m\u001B[43m)\u001B[49m\n\u001B[1;32m    917\u001B[0m new_tracing_count \u001B[38;5;241m=\u001B[39m \u001B[38;5;28mself\u001B[39m\u001B[38;5;241m.\u001B[39mexperimental_get_tracing_count()\n\u001B[1;32m    918\u001B[0m without_tracing \u001B[38;5;241m=\u001B[39m (tracing_count \u001B[38;5;241m==\u001B[39m new_tracing_count)\n",
      "File \u001B[0;32m~/Desktop/tesori/unversity/polimi/courses/2022-WS/AN2DL/AN2DL/challenge_2/.venv/lib/python3.10/site-packages/tensorflow/python/eager/def_function.py:947\u001B[0m, in \u001B[0;36mFunction._call\u001B[0;34m(self, *args, **kwds)\u001B[0m\n\u001B[1;32m    944\u001B[0m   \u001B[38;5;28mself\u001B[39m\u001B[38;5;241m.\u001B[39m_lock\u001B[38;5;241m.\u001B[39mrelease()\n\u001B[1;32m    945\u001B[0m   \u001B[38;5;66;03m# In this case we have created variables on the first call, so we run the\u001B[39;00m\n\u001B[1;32m    946\u001B[0m   \u001B[38;5;66;03m# defunned version which is guaranteed to never create variables.\u001B[39;00m\n\u001B[0;32m--> 947\u001B[0m   \u001B[38;5;28;01mreturn\u001B[39;00m \u001B[38;5;28;43mself\u001B[39;49m\u001B[38;5;241;43m.\u001B[39;49m\u001B[43m_stateless_fn\u001B[49m\u001B[43m(\u001B[49m\u001B[38;5;241;43m*\u001B[39;49m\u001B[43margs\u001B[49m\u001B[43m,\u001B[49m\u001B[43m \u001B[49m\u001B[38;5;241;43m*\u001B[39;49m\u001B[38;5;241;43m*\u001B[39;49m\u001B[43mkwds\u001B[49m\u001B[43m)\u001B[49m  \u001B[38;5;66;03m# pylint: disable=not-callable\u001B[39;00m\n\u001B[1;32m    948\u001B[0m \u001B[38;5;28;01melif\u001B[39;00m \u001B[38;5;28mself\u001B[39m\u001B[38;5;241m.\u001B[39m_stateful_fn \u001B[38;5;129;01mis\u001B[39;00m \u001B[38;5;129;01mnot\u001B[39;00m \u001B[38;5;28;01mNone\u001B[39;00m:\n\u001B[1;32m    949\u001B[0m   \u001B[38;5;66;03m# Release the lock early so that multiple threads can perform the call\u001B[39;00m\n\u001B[1;32m    950\u001B[0m   \u001B[38;5;66;03m# in parallel.\u001B[39;00m\n\u001B[1;32m    951\u001B[0m   \u001B[38;5;28mself\u001B[39m\u001B[38;5;241m.\u001B[39m_lock\u001B[38;5;241m.\u001B[39mrelease()\n",
      "File \u001B[0;32m~/Desktop/tesori/unversity/polimi/courses/2022-WS/AN2DL/AN2DL/challenge_2/.venv/lib/python3.10/site-packages/tensorflow/python/eager/function.py:2496\u001B[0m, in \u001B[0;36mFunction.__call__\u001B[0;34m(self, *args, **kwargs)\u001B[0m\n\u001B[1;32m   2493\u001B[0m \u001B[38;5;28;01mwith\u001B[39;00m \u001B[38;5;28mself\u001B[39m\u001B[38;5;241m.\u001B[39m_lock:\n\u001B[1;32m   2494\u001B[0m   (graph_function,\n\u001B[1;32m   2495\u001B[0m    filtered_flat_args) \u001B[38;5;241m=\u001B[39m \u001B[38;5;28mself\u001B[39m\u001B[38;5;241m.\u001B[39m_maybe_define_function(args, kwargs)\n\u001B[0;32m-> 2496\u001B[0m \u001B[38;5;28;01mreturn\u001B[39;00m \u001B[43mgraph_function\u001B[49m\u001B[38;5;241;43m.\u001B[39;49m\u001B[43m_call_flat\u001B[49m\u001B[43m(\u001B[49m\n\u001B[1;32m   2497\u001B[0m \u001B[43m    \u001B[49m\u001B[43mfiltered_flat_args\u001B[49m\u001B[43m,\u001B[49m\u001B[43m \u001B[49m\u001B[43mcaptured_inputs\u001B[49m\u001B[38;5;241;43m=\u001B[39;49m\u001B[43mgraph_function\u001B[49m\u001B[38;5;241;43m.\u001B[39;49m\u001B[43mcaptured_inputs\u001B[49m\u001B[43m)\u001B[49m\n",
      "File \u001B[0;32m~/Desktop/tesori/unversity/polimi/courses/2022-WS/AN2DL/AN2DL/challenge_2/.venv/lib/python3.10/site-packages/tensorflow/python/eager/function.py:1862\u001B[0m, in \u001B[0;36mConcreteFunction._call_flat\u001B[0;34m(self, args, captured_inputs, cancellation_manager)\u001B[0m\n\u001B[1;32m   1858\u001B[0m possible_gradient_type \u001B[38;5;241m=\u001B[39m gradients_util\u001B[38;5;241m.\u001B[39mPossibleTapeGradientTypes(args)\n\u001B[1;32m   1859\u001B[0m \u001B[38;5;28;01mif\u001B[39;00m (possible_gradient_type \u001B[38;5;241m==\u001B[39m gradients_util\u001B[38;5;241m.\u001B[39mPOSSIBLE_GRADIENT_TYPES_NONE\n\u001B[1;32m   1860\u001B[0m     \u001B[38;5;129;01mand\u001B[39;00m executing_eagerly):\n\u001B[1;32m   1861\u001B[0m   \u001B[38;5;66;03m# No tape is watching; skip to running the function.\u001B[39;00m\n\u001B[0;32m-> 1862\u001B[0m   \u001B[38;5;28;01mreturn\u001B[39;00m \u001B[38;5;28mself\u001B[39m\u001B[38;5;241m.\u001B[39m_build_call_outputs(\u001B[38;5;28;43mself\u001B[39;49m\u001B[38;5;241;43m.\u001B[39;49m\u001B[43m_inference_function\u001B[49m\u001B[38;5;241;43m.\u001B[39;49m\u001B[43mcall\u001B[49m\u001B[43m(\u001B[49m\n\u001B[1;32m   1863\u001B[0m \u001B[43m      \u001B[49m\u001B[43mctx\u001B[49m\u001B[43m,\u001B[49m\u001B[43m \u001B[49m\u001B[43margs\u001B[49m\u001B[43m,\u001B[49m\u001B[43m \u001B[49m\u001B[43mcancellation_manager\u001B[49m\u001B[38;5;241;43m=\u001B[39;49m\u001B[43mcancellation_manager\u001B[49m\u001B[43m)\u001B[49m)\n\u001B[1;32m   1864\u001B[0m forward_backward \u001B[38;5;241m=\u001B[39m \u001B[38;5;28mself\u001B[39m\u001B[38;5;241m.\u001B[39m_select_forward_and_backward_functions(\n\u001B[1;32m   1865\u001B[0m     args,\n\u001B[1;32m   1866\u001B[0m     possible_gradient_type,\n\u001B[1;32m   1867\u001B[0m     executing_eagerly)\n\u001B[1;32m   1868\u001B[0m forward_function, args_with_tangents \u001B[38;5;241m=\u001B[39m forward_backward\u001B[38;5;241m.\u001B[39mforward()\n",
      "File \u001B[0;32m~/Desktop/tesori/unversity/polimi/courses/2022-WS/AN2DL/AN2DL/challenge_2/.venv/lib/python3.10/site-packages/tensorflow/python/eager/function.py:499\u001B[0m, in \u001B[0;36m_EagerDefinedFunction.call\u001B[0;34m(self, ctx, args, cancellation_manager)\u001B[0m\n\u001B[1;32m    497\u001B[0m \u001B[38;5;28;01mwith\u001B[39;00m _InterpolateFunctionError(\u001B[38;5;28mself\u001B[39m):\n\u001B[1;32m    498\u001B[0m   \u001B[38;5;28;01mif\u001B[39;00m cancellation_manager \u001B[38;5;129;01mis\u001B[39;00m \u001B[38;5;28;01mNone\u001B[39;00m:\n\u001B[0;32m--> 499\u001B[0m     outputs \u001B[38;5;241m=\u001B[39m \u001B[43mexecute\u001B[49m\u001B[38;5;241;43m.\u001B[39;49m\u001B[43mexecute\u001B[49m\u001B[43m(\u001B[49m\n\u001B[1;32m    500\u001B[0m \u001B[43m        \u001B[49m\u001B[38;5;28;43mstr\u001B[39;49m\u001B[43m(\u001B[49m\u001B[38;5;28;43mself\u001B[39;49m\u001B[38;5;241;43m.\u001B[39;49m\u001B[43msignature\u001B[49m\u001B[38;5;241;43m.\u001B[39;49m\u001B[43mname\u001B[49m\u001B[43m)\u001B[49m\u001B[43m,\u001B[49m\n\u001B[1;32m    501\u001B[0m \u001B[43m        \u001B[49m\u001B[43mnum_outputs\u001B[49m\u001B[38;5;241;43m=\u001B[39;49m\u001B[38;5;28;43mself\u001B[39;49m\u001B[38;5;241;43m.\u001B[39;49m\u001B[43m_num_outputs\u001B[49m\u001B[43m,\u001B[49m\n\u001B[1;32m    502\u001B[0m \u001B[43m        \u001B[49m\u001B[43minputs\u001B[49m\u001B[38;5;241;43m=\u001B[39;49m\u001B[43margs\u001B[49m\u001B[43m,\u001B[49m\n\u001B[1;32m    503\u001B[0m \u001B[43m        \u001B[49m\u001B[43mattrs\u001B[49m\u001B[38;5;241;43m=\u001B[39;49m\u001B[43mattrs\u001B[49m\u001B[43m,\u001B[49m\n\u001B[1;32m    504\u001B[0m \u001B[43m        \u001B[49m\u001B[43mctx\u001B[49m\u001B[38;5;241;43m=\u001B[39;49m\u001B[43mctx\u001B[49m\u001B[43m)\u001B[49m\n\u001B[1;32m    505\u001B[0m   \u001B[38;5;28;01melse\u001B[39;00m:\n\u001B[1;32m    506\u001B[0m     outputs \u001B[38;5;241m=\u001B[39m execute\u001B[38;5;241m.\u001B[39mexecute_with_cancellation(\n\u001B[1;32m    507\u001B[0m         \u001B[38;5;28mstr\u001B[39m(\u001B[38;5;28mself\u001B[39m\u001B[38;5;241m.\u001B[39msignature\u001B[38;5;241m.\u001B[39mname),\n\u001B[1;32m    508\u001B[0m         num_outputs\u001B[38;5;241m=\u001B[39m\u001B[38;5;28mself\u001B[39m\u001B[38;5;241m.\u001B[39m_num_outputs,\n\u001B[0;32m   (...)\u001B[0m\n\u001B[1;32m    511\u001B[0m         ctx\u001B[38;5;241m=\u001B[39mctx,\n\u001B[1;32m    512\u001B[0m         cancellation_manager\u001B[38;5;241m=\u001B[39mcancellation_manager)\n",
      "File \u001B[0;32m~/Desktop/tesori/unversity/polimi/courses/2022-WS/AN2DL/AN2DL/challenge_2/.venv/lib/python3.10/site-packages/tensorflow/python/eager/execute.py:54\u001B[0m, in \u001B[0;36mquick_execute\u001B[0;34m(op_name, num_outputs, inputs, attrs, ctx, name)\u001B[0m\n\u001B[1;32m     52\u001B[0m \u001B[38;5;28;01mtry\u001B[39;00m:\n\u001B[1;32m     53\u001B[0m   ctx\u001B[38;5;241m.\u001B[39mensure_initialized()\n\u001B[0;32m---> 54\u001B[0m   tensors \u001B[38;5;241m=\u001B[39m \u001B[43mpywrap_tfe\u001B[49m\u001B[38;5;241;43m.\u001B[39;49m\u001B[43mTFE_Py_Execute\u001B[49m\u001B[43m(\u001B[49m\u001B[43mctx\u001B[49m\u001B[38;5;241;43m.\u001B[39;49m\u001B[43m_handle\u001B[49m\u001B[43m,\u001B[49m\u001B[43m \u001B[49m\u001B[43mdevice_name\u001B[49m\u001B[43m,\u001B[49m\u001B[43m \u001B[49m\u001B[43mop_name\u001B[49m\u001B[43m,\u001B[49m\n\u001B[1;32m     55\u001B[0m \u001B[43m                                      \u001B[49m\u001B[43minputs\u001B[49m\u001B[43m,\u001B[49m\u001B[43m \u001B[49m\u001B[43mattrs\u001B[49m\u001B[43m,\u001B[49m\u001B[43m \u001B[49m\u001B[43mnum_outputs\u001B[49m\u001B[43m)\u001B[49m\n\u001B[1;32m     56\u001B[0m \u001B[38;5;28;01mexcept\u001B[39;00m core\u001B[38;5;241m.\u001B[39m_NotOkStatusException \u001B[38;5;28;01mas\u001B[39;00m e:\n\u001B[1;32m     57\u001B[0m   \u001B[38;5;28;01mif\u001B[39;00m name \u001B[38;5;129;01mis\u001B[39;00m \u001B[38;5;129;01mnot\u001B[39;00m \u001B[38;5;28;01mNone\u001B[39;00m:\n",
      "\u001B[0;31mKeyboardInterrupt\u001B[0m: "
     ]
    }
   ],
   "source": [
    "input_shape = train_data.shape[1:]\n",
    "print(train_data.shape)\n",
    "print(input_shape)\n",
    "classes = NUM_CLASSES\n",
    "model_name = \"My-awesome-model\" # Give your model an awesome name for a 2% percent accuracy increase.\n",
    "\n",
    "model = build_model(model_name, (36,6), classes)\n",
    "model.summary()\n",
    "\n",
    "run_id = datetime.utcnow().strftime(\"%Y-%m-%d-%H-%M-%S\")\n",
    "current_tensorboard_log_dir = f\"{TENSORBOARD_LOGS_PATH}/{model_name}/{run_id}\"\n",
    "tensorboard_callback = tf.keras.callbacks.TensorBoard(log_dir=current_tensorboard_log_dir)\n",
    "print(f\"Run tensorboard in a separate process with:\\n\"\n",
    "      f\"tensorboard --logdir {path.abspath(TENSORBOARD_LOGS_PATH)}\\nor\\n\"\n",
    "      f\"tensorboard --logdir {path.abspath(current_tensorboard_log_dir)}\")\n",
    "\n",
    "best_weights_callback = SaveBestModelInMemory(metric=\"val_loss\")\n",
    "# reshaped_data = train_data.reshape(2064,256)\n",
    "model.fit(x=train_data, y=train_labels, batch_size=BATCH_SIZE, epochs=EPOCHS, validation_data=(test_data, test_labels), callbacks=[tensorboard_callback, best_weights_callback])"
   ],
   "metadata": {
    "collapsed": false
   }
  },
  {
   "cell_type": "markdown",
   "source": [
    "## Optional: Save model in memory"
   ],
   "metadata": {
    "collapsed": false
   }
  },
  {
   "cell_type": "code",
   "execution_count": 29,
   "outputs": [
    {
     "name": "stderr",
     "output_type": "stream",
     "text": [
      "WARNING:absl:Function `_wrapped_model` contains input name(s) Input with unsupported characters which will be renamed to input in the SavedModel.\n",
      "WARNING:absl:Found untraced functions such as lstm_cell_4_layer_call_fn, lstm_cell_4_layer_call_and_return_conditional_losses, lstm_cell_5_layer_call_fn, lstm_cell_5_layer_call_and_return_conditional_losses while saving (showing 4 of 4). These functions will not be directly callable after loading.\n"
     ]
    },
    {
     "name": "stdout",
     "output_type": "stream",
     "text": [
      "INFO:tensorflow:Assets written to: saved-models/My-awesome-model/2022-12-12-19-48-03/assets\n"
     ]
    },
    {
     "name": "stderr",
     "output_type": "stream",
     "text": [
      "INFO:tensorflow:Assets written to: saved-models/My-awesome-model/2022-12-12-19-48-03/assets\n"
     ]
    }
   ],
   "source": [
    "model.set_weights(best_weights_callback.best_weights)\n",
    "saved_model_path = f\"{SAVED_MODELS_PATH}/{model_name}/{run_id}\"\n",
    "model.save(saved_model_path)"
   ],
   "metadata": {
    "collapsed": false
   }
  },
  {
   "cell_type": "markdown",
   "source": [
    "## Optional: Create submission ZIP"
   ],
   "metadata": {
    "collapsed": false
   }
  },
  {
   "cell_type": "code",
   "execution_count": 30,
   "outputs": [
    {
     "name": "stdout",
     "output_type": "stream",
     "text": [
      "Created submission: ../submissions/My-awesome-model/2022-12-12-19-48-03.zip\n"
     ]
    }
   ],
   "source": [
    "submission_path = f\"{SUBMISSIONS_PATH}/{model_name}/{run_id}\"\n",
    "create_submission_zip(submission_path, saved_model_path)\n",
    "\n",
    "print(f\"Created submission: {submission_path}.zip\")"
   ],
   "metadata": {
    "collapsed": false
   }
  }
 ],
 "metadata": {
  "kernelspec": {
   "display_name": "Python 3",
   "language": "python",
   "name": "python3"
  },
  "language_info": {
   "codemirror_mode": {
    "name": "ipython",
    "version": 2
   },
   "file_extension": ".py",
   "mimetype": "text/x-python",
   "name": "python",
   "nbconvert_exporter": "python",
   "pygments_lexer": "ipython2",
   "version": "2.7.6"
  }
 },
 "nbformat": 4,
 "nbformat_minor": 0
}
