{
 "cells": [
  {
   "cell_type": "markdown",
   "source": [
    "# Title by Owner"
   ],
   "metadata": {
    "collapsed": false
   }
  },
  {
   "cell_type": "markdown",
   "source": [
    "## Imports"
   ],
   "metadata": {
    "collapsed": false
   }
  },
  {
   "cell_type": "code",
   "execution_count": 57,
   "outputs": [
    {
     "ename": "ImportError",
     "evalue": "cannot import name 'Attention' from 'attention' (/Users/amiable-sputnik/Desktop/tesori/unversity/polimi/courses/2022-WS/AN2DL/AN2DL/challenge_2/.venv/lib/python3.10/site-packages/attention/__init__.py)",
     "output_type": "error",
     "traceback": [
      "\u001B[0;31m---------------------------------------------------------------------------\u001B[0m",
      "\u001B[0;31mImportError\u001B[0m                               Traceback (most recent call last)",
      "Cell \u001B[0;32mIn[57], line 13\u001B[0m\n\u001B[1;32m     11\u001B[0m \u001B[38;5;28;01mfrom\u001B[39;00m \u001B[38;5;21;01mtensorflow\u001B[39;00m\u001B[38;5;21;01m.\u001B[39;00m\u001B[38;5;21;01mkeras\u001B[39;00m \u001B[38;5;28;01mimport\u001B[39;00m Model\n\u001B[1;32m     12\u001B[0m \u001B[38;5;28;01mfrom\u001B[39;00m \u001B[38;5;21;01mtensorflow\u001B[39;00m\u001B[38;5;21;01m.\u001B[39;00m\u001B[38;5;21;01mkeras\u001B[39;00m\u001B[38;5;21;01m.\u001B[39;00m\u001B[38;5;21;01mlayers\u001B[39;00m \u001B[38;5;28;01mimport\u001B[39;00m Input, Embedding, LSTM, Dense \u001B[38;5;66;03m#, Attention\u001B[39;00m\n\u001B[0;32m---> 13\u001B[0m \u001B[38;5;28;01mfrom\u001B[39;00m \u001B[38;5;21;01mattention\u001B[39;00m \u001B[38;5;28;01mimport\u001B[39;00m Attention \n\u001B[1;32m     14\u001B[0m \u001B[38;5;28mprint\u001B[39m(\u001B[38;5;241m5\u001B[39m)\n\u001B[1;32m     15\u001B[0m \u001B[38;5;66;03m# from tensorflow.keras.layers import Attention\u001B[39;00m\n",
      "\u001B[0;31mImportError\u001B[0m: cannot import name 'Attention' from 'attention' (/Users/amiable-sputnik/Desktop/tesori/unversity/polimi/courses/2022-WS/AN2DL/AN2DL/challenge_2/.venv/lib/python3.10/site-packages/attention/__init__.py)"
     ]
    }
   ],
   "source": [
    "import numpy as np\n",
    "import tensorflow as tf\n",
    "from sklearn.model_selection import train_test_split\n",
    "from datetime import datetime\n",
    "from os import path\n",
    "from utils.callbacks import SaveBestModelInMemory\n",
    "from utils.submission import create_submission_zip\n",
    "\n",
    "from tensorflow.python import keras\n",
    "from tensorflow.keras.utils import to_categorical\n",
    "from tensorflow.keras import Model\n",
    "from tensorflow.keras.layers import Input, Embedding, LSTM, Dense #, Attention\n",
    "from attention import Attention\n",
    "print(5)\n",
    "# from tensorflow.keras.layers import Attention"
   ],
   "metadata": {
    "collapsed": false
   }
  },
  {
   "cell_type": "markdown",
   "source": [
    "## Constants"
   ],
   "metadata": {
    "collapsed": false
   }
  },
  {
   "cell_type": "code",
   "execution_count": 7,
   "outputs": [],
   "source": [
    "NUM_CLASSES = 12\n",
    "RANDOM_STATE = 42 # Seed for rng to make everything reproducible and deterministic af\n",
    "SAVED_MODELS_PATH = \"saved-models\"\n",
    "TENSORBOARD_LOGS_PATH = \"tensorboard-logs\"\n",
    "SUBMISSIONS_PATH = \"../submissions\""
   ],
   "metadata": {
    "collapsed": false
   }
  },
  {
   "cell_type": "markdown",
   "source": [
    "## Parameters"
   ],
   "metadata": {
    "collapsed": false
   }
  },
  {
   "cell_type": "code",
   "execution_count": 8,
   "outputs": [],
   "source": [
    "BATCH_SIZE = 64 # Number of samples in a mini batch\n",
    "EPOCHS = 10 # Number of training epochs before the training is stopped\n",
    "TEST_SPLIT = 0.15 # Percent of data to use for validation/testing"
   ],
   "metadata": {
    "collapsed": false
   }
  },
  {
   "cell_type": "markdown",
   "source": [],
   "metadata": {
    "collapsed": false
   }
  },
  {
   "cell_type": "code",
   "execution_count": 9,
   "outputs": [
    {
     "name": "stdout",
     "output_type": "stream",
     "text": [
      "All samples shape: (2429, 36, 6), all labels shape: (2429, 12)\n",
      "Train samples shape: (2064, 36, 6), Train labels shape: (2064, 12)\n",
      "Test samples shape: (365, 36, 6), Test labels shape: (365, 12)\n"
     ]
    }
   ],
   "source": [
    "data = np.load(file=\"../dataset/x_train.npy\")\n",
    "labels = tf.keras.utils.to_categorical(np.load(file=\"../dataset/y_train.npy\"), num_classes=NUM_CLASSES)\n",
    "\n",
    "train_data, test_data, train_labels, test_labels = train_test_split(data, labels, test_size=TEST_SPLIT, random_state=RANDOM_STATE)\n",
    "\n",
    "# Make sure everything was loaded correctly:\n",
    "print(f\"All samples shape: {data.shape}, all labels shape: {labels.shape}\")\n",
    "print(f\"Train samples shape: {train_data.shape}, Train labels shape: {train_labels.shape}\")\n",
    "print(f\"Test samples shape: {test_data.shape}, Test labels shape: {test_labels.shape}\")"
   ],
   "metadata": {
    "collapsed": false
   }
  },
  {
   "cell_type": "markdown",
   "source": [
    "## Model Definition"
   ],
   "metadata": {
    "collapsed": false
   }
  },
  {
   "cell_type": "code",
   "execution_count": 44,
   "outputs": [],
   "source": [
    "# Create the model inside the function this is a dummy implementation\n",
    "def build_model(name: str, input_shape: tuple[int,...], classes: int) -> tf.keras.Model:\n",
    "    # Build the neural network layer by layer\n",
    "    print(input_shape)\n",
    "\n",
    "    # X = Input(shape=input_shape)\n",
    "    # encoder = LSTM(64, return_sequences=True)(X)\n",
    "    # decoder = Attention()(encoder)\n",
    "    # Y = Dense(classes)(decoder)\n",
    "\n",
    "    query_input = tf.keras.Input(shape=(None,), dtype='int32')\n",
    "    value_input = tf.keras.Input(shape=(None,), dtype='int32')\n",
    "\n",
    "    token_embedding =  tf.keras.layers.Embedding(input_dim=(36,6), output_dim=128)\n",
    "\n",
    "    query_embeddings = token_embedding(query_input)\n",
    "    value_embeddings = token_embedding(value_input)\n",
    "\n",
    "    cnn_layer = tf.keras.layers.Conv1D(128, 6, padding='same')\n",
    "    query_seq_encoding = cnn_layer(query_embeddings)\n",
    "    value_seq_encoding = cnn_layer(value_embeddings)\n",
    "\n",
    "    query_value_attention_seq = tf.keras.layers.Attention()([query_seq_encoding, value_seq_encoding])\n",
    "\n",
    "    query_encoding = tf.keras.layers.GlobalAveragePooling1D()(query_seq_encoding)\n",
    "    query_value_attention = tf.keras.layers.GlobalAveragePooling1D()(query_value_attention_seq)\n",
    "\n",
    "    X = tf.keras.layers.Concatenate()([query_encoding, query_value_attention])\n",
    "    Y = Dense(units=classes, activation='softmax')(X)\n",
    "\n",
    "    # The most promising!!\n",
    "    # X = Input(shape=input_shape, batch_size=BATCH_SIZE)  # tf.keras.layers.Input(shape=input_shape, name=\"Input\")\n",
    "    # embedding = Embedding(input_dim=classes, output_dim=128)(X)\n",
    "\n",
    "    # encoder = LSTM(64, return_sequences=True)(X)\n",
    "    # encoder = LSTM(units=128, return_sequences=True)(embedding)\n",
    "\n",
    "    # a = Attention()\n",
    "    # decoder, attention_weights = Attention(context='many-to-one', alignment_type='global', model_api='functional')(encoder)\n",
    "    # decoder = Attention(use_scale=False)\n",
    "    # Y = Dense(units=classes, activation='softmax')(decoder)\n",
    "    #\n",
    "    # Connect input and output through the Model class\n",
    "    model = tf.keras.Model(inputs=X, outputs=Y, name=name)\n",
    "    # Compile the model\n",
    "    model.compile(loss=tf.keras.losses.SparseCategoricalCrossentropy(), optimizer=tf.keras.optimizers.Adam(), metrics=\"accuracy\")\n",
    "\n",
    "    # Return the model\n",
    "    return model"
   ],
   "metadata": {
    "collapsed": false
   }
  },
  {
   "cell_type": "code",
   "execution_count": 55,
   "outputs": [],
   "source": [
    "# Simple approach\n",
    "def build_model(name: str, input_shape: tuple[int,...], classes: int) -> tf.keras.Model:\n",
    "    # Build the neural network layer by layer\n",
    "    num_samples = 2064\n",
    "    time_steps = 36\n",
    "\n",
    "    model_input = Input(shape=(36, 6))\n",
    "    x = LSTM(64, return_sequences=True)(model_input)\n",
    "    x = attention.Attention(32)(x)\n",
    "    x = Dense(1)(x)\n",
    "    model = tf.keras.Model(inputs=model_input, outputs=x, name=name)\n",
    "    # Compile the model\n",
    "    model.compile(loss=tf.keras.losses.SparseCategoricalCrossentropy(), optimizer=tf.keras.optimizers.Adam(), metrics=\"accuracy\")\n",
    "\n",
    "    # Return the model\n",
    "    return model\n"
   ],
   "metadata": {
    "collapsed": false
   }
  },
  {
   "cell_type": "markdown",
   "source": [
    "## Training"
   ],
   "metadata": {
    "collapsed": false
   }
  },
  {
   "cell_type": "code",
   "execution_count": 56,
   "outputs": [
    {
     "name": "stdout",
     "output_type": "stream",
     "text": [
      "(2064, 36, 6)\n",
      "(36, 6)\n"
     ]
    },
    {
     "ename": "AttributeError",
     "evalue": "module 'attention' has no attribute 'Attention'",
     "output_type": "error",
     "traceback": [
      "\u001B[0;31m---------------------------------------------------------------------------\u001B[0m",
      "\u001B[0;31mAttributeError\u001B[0m                            Traceback (most recent call last)",
      "Cell \u001B[0;32mIn[56], line 7\u001B[0m\n\u001B[1;32m      4\u001B[0m classes \u001B[38;5;241m=\u001B[39m NUM_CLASSES\n\u001B[1;32m      5\u001B[0m model_name \u001B[38;5;241m=\u001B[39m \u001B[38;5;124m\"\u001B[39m\u001B[38;5;124mMy-awesome-model\u001B[39m\u001B[38;5;124m\"\u001B[39m \u001B[38;5;66;03m# Give your model an awesome name for a 2% percent accuracy increase.\u001B[39;00m\n\u001B[0;32m----> 7\u001B[0m model \u001B[38;5;241m=\u001B[39m \u001B[43mbuild_model\u001B[49m\u001B[43m(\u001B[49m\u001B[43mmodel_name\u001B[49m\u001B[43m,\u001B[49m\u001B[43m \u001B[49m\u001B[43m(\u001B[49m\u001B[38;5;241;43m36\u001B[39;49m\u001B[43m,\u001B[49m\u001B[38;5;241;43m6\u001B[39;49m\u001B[43m)\u001B[49m\u001B[43m,\u001B[49m\u001B[43m \u001B[49m\u001B[43mclasses\u001B[49m\u001B[43m)\u001B[49m\n\u001B[1;32m      8\u001B[0m model\u001B[38;5;241m.\u001B[39msummary()\n\u001B[1;32m     10\u001B[0m run_id \u001B[38;5;241m=\u001B[39m datetime\u001B[38;5;241m.\u001B[39mutcnow()\u001B[38;5;241m.\u001B[39mstrftime(\u001B[38;5;124m\"\u001B[39m\u001B[38;5;124m%\u001B[39m\u001B[38;5;124mY-\u001B[39m\u001B[38;5;124m%\u001B[39m\u001B[38;5;124mm-\u001B[39m\u001B[38;5;132;01m%d\u001B[39;00m\u001B[38;5;124m-\u001B[39m\u001B[38;5;124m%\u001B[39m\u001B[38;5;124mH-\u001B[39m\u001B[38;5;124m%\u001B[39m\u001B[38;5;124mM-\u001B[39m\u001B[38;5;124m%\u001B[39m\u001B[38;5;124mS\u001B[39m\u001B[38;5;124m\"\u001B[39m)\n",
      "Cell \u001B[0;32mIn[55], line 9\u001B[0m, in \u001B[0;36mbuild_model\u001B[0;34m(name, input_shape, classes)\u001B[0m\n\u001B[1;32m      7\u001B[0m model_input \u001B[38;5;241m=\u001B[39m Input(shape\u001B[38;5;241m=\u001B[39m(\u001B[38;5;241m36\u001B[39m, \u001B[38;5;241m6\u001B[39m))\n\u001B[1;32m      8\u001B[0m x \u001B[38;5;241m=\u001B[39m LSTM(\u001B[38;5;241m64\u001B[39m, return_sequences\u001B[38;5;241m=\u001B[39m\u001B[38;5;28;01mTrue\u001B[39;00m)(model_input)\n\u001B[0;32m----> 9\u001B[0m x \u001B[38;5;241m=\u001B[39m \u001B[43mattention\u001B[49m\u001B[38;5;241;43m.\u001B[39;49m\u001B[43mAttention\u001B[49m(\u001B[38;5;241m32\u001B[39m)(x)\n\u001B[1;32m     10\u001B[0m x \u001B[38;5;241m=\u001B[39m Dense(\u001B[38;5;241m1\u001B[39m)(x)\n\u001B[1;32m     11\u001B[0m model \u001B[38;5;241m=\u001B[39m tf\u001B[38;5;241m.\u001B[39mkeras\u001B[38;5;241m.\u001B[39mModel(inputs\u001B[38;5;241m=\u001B[39mmodel_input, outputs\u001B[38;5;241m=\u001B[39mx, name\u001B[38;5;241m=\u001B[39mname)\n",
      "\u001B[0;31mAttributeError\u001B[0m: module 'attention' has no attribute 'Attention'"
     ]
    }
   ],
   "source": [
    "input_shape = train_data.shape[1:]\n",
    "print(train_data.shape)\n",
    "print(input_shape)\n",
    "classes = NUM_CLASSES\n",
    "model_name = \"My-awesome-model\" # Give your model an awesome name for a 2% percent accuracy increase.\n",
    "\n",
    "model = build_model(model_name, (36,6), classes)\n",
    "model.summary()\n",
    "\n",
    "run_id = datetime.utcnow().strftime(\"%Y-%m-%d-%H-%M-%S\")\n",
    "current_tensorboard_log_dir = f\"{TENSORBOARD_LOGS_PATH}/{model_name}/{run_id}\"\n",
    "tensorboard_callback = tf.keras.callbacks.TensorBoard(log_dir=current_tensorboard_log_dir)\n",
    "print(f\"Run tensorboard in a separate process with:\\n\"\n",
    "      f\"tensorboard --logdir {path.abspath(TENSORBOARD_LOGS_PATH)}\\nor\\n\"\n",
    "      f\"tensorboard --logdir {path.abspath(current_tensorboard_log_dir)}\")\n",
    "\n",
    "best_weights_callback = SaveBestModelInMemory(metric=\"val_loss\")\n",
    "# reshaped_data = train_data.reshape(2064,256)\n",
    "model.fit(x=train_data, y=train_labels, batch_size=BATCH_SIZE, epochs=EPOCHS, validation_data=(test_data, test_labels), callbacks=[tensorboard_callback, best_weights_callback])"
   ],
   "metadata": {
    "collapsed": false
   }
  },
  {
   "cell_type": "markdown",
   "source": [
    "## Optional: Save model in memory"
   ],
   "metadata": {
    "collapsed": false
   }
  },
  {
   "cell_type": "code",
   "execution_count": 29,
   "outputs": [
    {
     "name": "stderr",
     "output_type": "stream",
     "text": [
      "WARNING:absl:Function `_wrapped_model` contains input name(s) Input with unsupported characters which will be renamed to input in the SavedModel.\n",
      "WARNING:absl:Found untraced functions such as lstm_cell_4_layer_call_fn, lstm_cell_4_layer_call_and_return_conditional_losses, lstm_cell_5_layer_call_fn, lstm_cell_5_layer_call_and_return_conditional_losses while saving (showing 4 of 4). These functions will not be directly callable after loading.\n"
     ]
    },
    {
     "name": "stdout",
     "output_type": "stream",
     "text": [
      "INFO:tensorflow:Assets written to: saved-models/My-awesome-model/2022-12-12-19-48-03/assets\n"
     ]
    },
    {
     "name": "stderr",
     "output_type": "stream",
     "text": [
      "INFO:tensorflow:Assets written to: saved-models/My-awesome-model/2022-12-12-19-48-03/assets\n"
     ]
    }
   ],
   "source": [
    "model.set_weights(best_weights_callback.best_weights)\n",
    "saved_model_path = f\"{SAVED_MODELS_PATH}/{model_name}/{run_id}\"\n",
    "model.save(saved_model_path)"
   ],
   "metadata": {
    "collapsed": false
   }
  },
  {
   "cell_type": "markdown",
   "source": [
    "## Optional: Create submission ZIP"
   ],
   "metadata": {
    "collapsed": false
   }
  },
  {
   "cell_type": "code",
   "execution_count": 30,
   "outputs": [
    {
     "name": "stdout",
     "output_type": "stream",
     "text": [
      "Created submission: ../submissions/My-awesome-model/2022-12-12-19-48-03.zip\n"
     ]
    }
   ],
   "source": [
    "submission_path = f\"{SUBMISSIONS_PATH}/{model_name}/{run_id}\"\n",
    "create_submission_zip(submission_path, saved_model_path)\n",
    "\n",
    "print(f\"Created submission: {submission_path}.zip\")"
   ],
   "metadata": {
    "collapsed": false
   }
  }
 ],
 "metadata": {
  "kernelspec": {
   "display_name": "Python 3",
   "language": "python",
   "name": "python3"
  },
  "language_info": {
   "codemirror_mode": {
    "name": "ipython",
    "version": 2
   },
   "file_extension": ".py",
   "mimetype": "text/x-python",
   "name": "python",
   "nbconvert_exporter": "python",
   "pygments_lexer": "ipython2",
   "version": "2.7.6"
  }
 },
 "nbformat": 4,
 "nbformat_minor": 0
}
