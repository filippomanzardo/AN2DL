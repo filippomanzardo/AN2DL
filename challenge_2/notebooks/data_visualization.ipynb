{
 "cells": [
  {
   "cell_type": "markdown",
   "source": [
    "## Imports"
   ],
   "metadata": {
    "collapsed": false,
    "pycharm": {
     "name": "#%% md\n"
    }
   }
  },
  {
   "cell_type": "code",
   "execution_count": 17,
   "outputs": [
    {
     "name": "stdout",
     "output_type": "stream",
     "text": [
      "Python 3.10.8\r\n"
     ]
    }
   ],
   "source": [
    "import numpy as np\n",
    "import pandas as pd\n",
    "from ipywidgets import interact\n",
    "from collections import Counter\n",
    "import seaborn as sns\n",
    "import matplotlib.pyplot as plt\n",
    "from sklearn.preprocessing import StandardScaler\n",
    "\n",
    "!python --version"
   ],
   "metadata": {
    "collapsed": false,
    "pycharm": {
     "name": "#%%\n"
    }
   }
  },
  {
   "cell_type": "code",
   "execution_count": 36,
   "outputs": [
    {
     "name": "stdout",
     "output_type": "stream",
     "text": [
      "Training data shape:  (2429, 36, 6)\n",
      "Labels shape:  (2429,)\n"
     ]
    }
   ],
   "source": [
    "x_data = np.load('../dataset/x_train.npy')\n",
    "y_data = np.load('../dataset/y_train.npy')\n",
    "print(\"Training data shape: \", x_data.shape)\n",
    "print(\"Labels shape: \", y_data.shape)"
   ],
   "metadata": {
    "collapsed": false,
    "pycharm": {
     "name": "#%%\n"
    }
   }
  },
  {
   "cell_type": "code",
   "execution_count": 19,
   "outputs": [
    {
     "data": {
      "text/plain": "Counter({'0': 34,\n         '1': 123,\n         '2': 270,\n         '3': 381,\n         '4': 62,\n         '5': 153,\n         '6': 313,\n         '7': 68,\n         '8': 120,\n         '9': 777,\n         '10': 77,\n         '11': 51})"
     },
     "execution_count": 19,
     "metadata": {},
     "output_type": "execute_result"
    }
   ],
   "source": [
    "label_count = Counter([str(label) for label in y_data])\n",
    "label_count"
   ],
   "metadata": {
    "collapsed": false,
    "pycharm": {
     "name": "#%%\n"
    }
   }
  },
  {
   "cell_type": "code",
   "execution_count": 12,
   "outputs": [
    {
     "data": {
      "text/plain": "<Figure size 1700x500 with 1 Axes>",
      "image/png": "[encoded data removed]"
     },
     "metadata": {},
     "output_type": "display_data"
    }
   ],
   "source": [
    "plt.figure(figsize=(17,5))\n",
    "plot = sns.countplot(x=y_data)\n",
    "plt.title('Label count')\n",
    "plt.show()"
   ],
   "metadata": {
    "collapsed": false,
    "pycharm": {
     "name": "#%%\n"
    }
   }
  },
  {
   "cell_type": "code",
   "execution_count": 41,
   "outputs": [
    {
     "data": {
      "text/plain": "<Figure size 1700x500 with 0 Axes>"
     },
     "metadata": {},
     "output_type": "display_data"
    },
    {
     "data": {
      "text/plain": "interactive(children=(Dropdown(description='class_', options=('0', '1', '2', '3', '4', '5', '6', '7', '8', '9'…",
      "application/vnd.jupyter.widget-view+json": {
       "version_major": 2,
       "version_minor": 0,
       "model_id": "273bf835d5e64f17947c268852a31ee4"
      }
     },
     "metadata": {},
     "output_type": "display_data"
    }
   ],
   "source": [
    "def plot_time_series(class_: int) -> None:\n",
    "    \"\"\"Plot time series for a given class\"\"\"\n",
    "    fig = plt.figure(figsize=(17,5))\n",
    "\n",
    "    class_data = np.concatenate([x_data[i] for i in range(len(x_data)) if y_data[i] == class_], axis=0)\n",
    "\n",
    "    print(class_data.shape)\n",
    "    for feature in range(x_data.shape[-1]):\n",
    "        plt.plot(class_data[:, feature], label=f'Feature {feature}')\n",
    "\n",
    "    plt.show()\n",
    "\n",
    "plot_time_series(0)\n"
   ],
   "metadata": {
    "collapsed": false,
    "pycharm": {
     "name": "#%%\n"
    }
   }
  }
 ],
 "metadata": {
  "kernelspec": {
   "display_name": "Python 3",
   "language": "python",
   "name": "python3"
  },
  "language_info": {
   "codemirror_mode": {
    "name": "ipython",
    "version": 2
   },
   "file_extension": ".py",
   "mimetype": "text/x-python",
   "name": "python",
   "nbconvert_exporter": "python",
   "pygments_lexer": "ipython2",
   "version": "2.7.6"
  }
 },
 "nbformat": 4,
 "nbformat_minor": 0
}